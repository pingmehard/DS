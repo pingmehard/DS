{
 "cells": [
  {
   "cell_type": "code",
   "execution_count": 1,
   "metadata": {
    "ExecuteTime": {
     "end_time": "2020-06-12T19:05:55.736965Z",
     "start_time": "2020-06-12T19:05:54.746787Z"
    }
   },
   "outputs": [],
   "source": [
    "import pandas as pd\n",
    "%matplotlib inline\n",
    "import seaborn as sns\n",
    "import matplotlib.pyplot as plt\n",
    "import numpy as np"
   ]
  },
  {
   "cell_type": "code",
   "execution_count": 2,
   "metadata": {
    "ExecuteTime": {
     "end_time": "2020-06-12T19:05:55.740955Z",
     "start_time": "2020-06-12T19:05:55.737962Z"
    }
   },
   "outputs": [],
   "source": [
    "file = './telecom_data.csv'"
   ]
  },
  {
   "cell_type": "code",
   "execution_count": 3,
   "metadata": {
    "ExecuteTime": {
     "end_time": "2020-06-12T19:05:55.803813Z",
     "start_time": "2020-06-12T19:05:55.741951Z"
    }
   },
   "outputs": [
    {
     "data": {
      "text/html": [
       "<div>\n",
       "<style scoped>\n",
       "    .dataframe tbody tr th:only-of-type {\n",
       "        vertical-align: middle;\n",
       "    }\n",
       "\n",
       "    .dataframe tbody tr th {\n",
       "        vertical-align: top;\n",
       "    }\n",
       "\n",
       "    .dataframe thead th {\n",
       "        text-align: right;\n",
       "    }\n",
       "</style>\n",
       "<table border=\"1\" class=\"dataframe\">\n",
       "  <thead>\n",
       "    <tr style=\"text-align: right;\">\n",
       "      <th></th>\n",
       "      <th>Unnamed: 0</th>\n",
       "      <th>index</th>\n",
       "      <th>customerID</th>\n",
       "      <th>gender</th>\n",
       "      <th>SeniorCitizen</th>\n",
       "      <th>Partner</th>\n",
       "      <th>Dependents</th>\n",
       "      <th>tenure</th>\n",
       "      <th>PhoneService</th>\n",
       "      <th>MultipleLines</th>\n",
       "      <th>...</th>\n",
       "      <th>DeviceProtection</th>\n",
       "      <th>TechSupport</th>\n",
       "      <th>StreamingTV</th>\n",
       "      <th>StreamingMovies</th>\n",
       "      <th>Contract</th>\n",
       "      <th>PaperlessBilling</th>\n",
       "      <th>PaymentMethod</th>\n",
       "      <th>MonthlyCharges</th>\n",
       "      <th>TotalCharges</th>\n",
       "      <th>Churn</th>\n",
       "    </tr>\n",
       "  </thead>\n",
       "  <tbody>\n",
       "    <tr>\n",
       "      <th>0</th>\n",
       "      <td>0</td>\n",
       "      <td>1</td>\n",
       "      <td>5575-GNVDE</td>\n",
       "      <td>Male</td>\n",
       "      <td>No</td>\n",
       "      <td>No</td>\n",
       "      <td>No</td>\n",
       "      <td>34</td>\n",
       "      <td>Yes</td>\n",
       "      <td>No</td>\n",
       "      <td>...</td>\n",
       "      <td>Yes</td>\n",
       "      <td>No</td>\n",
       "      <td>No</td>\n",
       "      <td>No</td>\n",
       "      <td>One year</td>\n",
       "      <td>No</td>\n",
       "      <td>Mailed check</td>\n",
       "      <td>56.95</td>\n",
       "      <td>1889.50</td>\n",
       "      <td>No</td>\n",
       "    </tr>\n",
       "    <tr>\n",
       "      <th>1</th>\n",
       "      <td>1</td>\n",
       "      <td>2</td>\n",
       "      <td>3668-QPYBK</td>\n",
       "      <td>Male</td>\n",
       "      <td>No</td>\n",
       "      <td>No</td>\n",
       "      <td>No</td>\n",
       "      <td>2</td>\n",
       "      <td>Yes</td>\n",
       "      <td>No</td>\n",
       "      <td>...</td>\n",
       "      <td>No</td>\n",
       "      <td>No</td>\n",
       "      <td>No</td>\n",
       "      <td>No</td>\n",
       "      <td>Month-to-month</td>\n",
       "      <td>Yes</td>\n",
       "      <td>Mailed check</td>\n",
       "      <td>53.85</td>\n",
       "      <td>108.15</td>\n",
       "      <td>Yes</td>\n",
       "    </tr>\n",
       "    <tr>\n",
       "      <th>2</th>\n",
       "      <td>2</td>\n",
       "      <td>3</td>\n",
       "      <td>7795-CFOCW</td>\n",
       "      <td>Male</td>\n",
       "      <td>No</td>\n",
       "      <td>No</td>\n",
       "      <td>No</td>\n",
       "      <td>45</td>\n",
       "      <td>No</td>\n",
       "      <td>No phone service</td>\n",
       "      <td>...</td>\n",
       "      <td>Yes</td>\n",
       "      <td>Yes</td>\n",
       "      <td>No</td>\n",
       "      <td>No</td>\n",
       "      <td>One year</td>\n",
       "      <td>No</td>\n",
       "      <td>Bank transfer (automatic)</td>\n",
       "      <td>42.30</td>\n",
       "      <td>1840.75</td>\n",
       "      <td>No</td>\n",
       "    </tr>\n",
       "    <tr>\n",
       "      <th>3</th>\n",
       "      <td>3</td>\n",
       "      <td>4</td>\n",
       "      <td>9237-HQITU</td>\n",
       "      <td>Female</td>\n",
       "      <td>No</td>\n",
       "      <td>No</td>\n",
       "      <td>No</td>\n",
       "      <td>2</td>\n",
       "      <td>Yes</td>\n",
       "      <td>No</td>\n",
       "      <td>...</td>\n",
       "      <td>No</td>\n",
       "      <td>No</td>\n",
       "      <td>No</td>\n",
       "      <td>No</td>\n",
       "      <td>Month-to-month</td>\n",
       "      <td>Yes</td>\n",
       "      <td>Electronic check</td>\n",
       "      <td>70.70</td>\n",
       "      <td>151.65</td>\n",
       "      <td>Yes</td>\n",
       "    </tr>\n",
       "    <tr>\n",
       "      <th>4</th>\n",
       "      <td>4</td>\n",
       "      <td>5</td>\n",
       "      <td>9305-CDSKC</td>\n",
       "      <td>Female</td>\n",
       "      <td>No</td>\n",
       "      <td>No</td>\n",
       "      <td>No</td>\n",
       "      <td>8</td>\n",
       "      <td>Yes</td>\n",
       "      <td>Yes</td>\n",
       "      <td>...</td>\n",
       "      <td>Yes</td>\n",
       "      <td>No</td>\n",
       "      <td>Yes</td>\n",
       "      <td>Yes</td>\n",
       "      <td>Month-to-month</td>\n",
       "      <td>Yes</td>\n",
       "      <td>Electronic check</td>\n",
       "      <td>99.65</td>\n",
       "      <td>820.50</td>\n",
       "      <td>Yes</td>\n",
       "    </tr>\n",
       "    <tr>\n",
       "      <th>...</th>\n",
       "      <td>...</td>\n",
       "      <td>...</td>\n",
       "      <td>...</td>\n",
       "      <td>...</td>\n",
       "      <td>...</td>\n",
       "      <td>...</td>\n",
       "      <td>...</td>\n",
       "      <td>...</td>\n",
       "      <td>...</td>\n",
       "      <td>...</td>\n",
       "      <td>...</td>\n",
       "      <td>...</td>\n",
       "      <td>...</td>\n",
       "      <td>...</td>\n",
       "      <td>...</td>\n",
       "      <td>...</td>\n",
       "      <td>...</td>\n",
       "      <td>...</td>\n",
       "      <td>...</td>\n",
       "      <td>...</td>\n",
       "      <td>...</td>\n",
       "    </tr>\n",
       "    <tr>\n",
       "      <th>6038</th>\n",
       "      <td>6038</td>\n",
       "      <td>7037</td>\n",
       "      <td>2569-WGERO</td>\n",
       "      <td>Female</td>\n",
       "      <td>No</td>\n",
       "      <td>No</td>\n",
       "      <td>No</td>\n",
       "      <td>72</td>\n",
       "      <td>Yes</td>\n",
       "      <td>No</td>\n",
       "      <td>...</td>\n",
       "      <td>No</td>\n",
       "      <td>No</td>\n",
       "      <td>No</td>\n",
       "      <td>No</td>\n",
       "      <td>Two year</td>\n",
       "      <td>Yes</td>\n",
       "      <td>Bank transfer (automatic)</td>\n",
       "      <td>21.15</td>\n",
       "      <td>1419.40</td>\n",
       "      <td>No</td>\n",
       "    </tr>\n",
       "    <tr>\n",
       "      <th>6039</th>\n",
       "      <td>6039</td>\n",
       "      <td>7038</td>\n",
       "      <td>6840-RESVB</td>\n",
       "      <td>Male</td>\n",
       "      <td>No</td>\n",
       "      <td>Yes</td>\n",
       "      <td>Yes</td>\n",
       "      <td>24</td>\n",
       "      <td>Yes</td>\n",
       "      <td>Yes</td>\n",
       "      <td>...</td>\n",
       "      <td>Yes</td>\n",
       "      <td>Yes</td>\n",
       "      <td>Yes</td>\n",
       "      <td>Yes</td>\n",
       "      <td>One year</td>\n",
       "      <td>Yes</td>\n",
       "      <td>Mailed check</td>\n",
       "      <td>84.80</td>\n",
       "      <td>1990.50</td>\n",
       "      <td>No</td>\n",
       "    </tr>\n",
       "    <tr>\n",
       "      <th>6040</th>\n",
       "      <td>6040</td>\n",
       "      <td>7039</td>\n",
       "      <td>2234-XADUH</td>\n",
       "      <td>Female</td>\n",
       "      <td>No</td>\n",
       "      <td>Yes</td>\n",
       "      <td>Yes</td>\n",
       "      <td>72</td>\n",
       "      <td>Yes</td>\n",
       "      <td>Yes</td>\n",
       "      <td>...</td>\n",
       "      <td>Yes</td>\n",
       "      <td>No</td>\n",
       "      <td>Yes</td>\n",
       "      <td>Yes</td>\n",
       "      <td>One year</td>\n",
       "      <td>Yes</td>\n",
       "      <td>Credit card (automatic)</td>\n",
       "      <td>103.20</td>\n",
       "      <td>7362.90</td>\n",
       "      <td>No</td>\n",
       "    </tr>\n",
       "    <tr>\n",
       "      <th>6041</th>\n",
       "      <td>6041</td>\n",
       "      <td>7041</td>\n",
       "      <td>8361-LTMKD</td>\n",
       "      <td>Male</td>\n",
       "      <td>Yes</td>\n",
       "      <td>Yes</td>\n",
       "      <td>No</td>\n",
       "      <td>4</td>\n",
       "      <td>Yes</td>\n",
       "      <td>Yes</td>\n",
       "      <td>...</td>\n",
       "      <td>No</td>\n",
       "      <td>No</td>\n",
       "      <td>No</td>\n",
       "      <td>No</td>\n",
       "      <td>Month-to-month</td>\n",
       "      <td>Yes</td>\n",
       "      <td>Mailed check</td>\n",
       "      <td>74.40</td>\n",
       "      <td>306.60</td>\n",
       "      <td>Yes</td>\n",
       "    </tr>\n",
       "    <tr>\n",
       "      <th>6042</th>\n",
       "      <td>6042</td>\n",
       "      <td>7042</td>\n",
       "      <td>3186-AJIEK</td>\n",
       "      <td>Male</td>\n",
       "      <td>No</td>\n",
       "      <td>No</td>\n",
       "      <td>No</td>\n",
       "      <td>66</td>\n",
       "      <td>Yes</td>\n",
       "      <td>No</td>\n",
       "      <td>...</td>\n",
       "      <td>Yes</td>\n",
       "      <td>Yes</td>\n",
       "      <td>Yes</td>\n",
       "      <td>Yes</td>\n",
       "      <td>Two year</td>\n",
       "      <td>Yes</td>\n",
       "      <td>Bank transfer (automatic)</td>\n",
       "      <td>105.65</td>\n",
       "      <td>6844.50</td>\n",
       "      <td>No</td>\n",
       "    </tr>\n",
       "  </tbody>\n",
       "</table>\n",
       "<p>6043 rows × 23 columns</p>\n",
       "</div>"
      ],
      "text/plain": [
       "      Unnamed: 0  index  customerID  gender SeniorCitizen Partner Dependents  \\\n",
       "0              0      1  5575-GNVDE    Male            No      No         No   \n",
       "1              1      2  3668-QPYBK    Male            No      No         No   \n",
       "2              2      3  7795-CFOCW    Male            No      No         No   \n",
       "3              3      4  9237-HQITU  Female            No      No         No   \n",
       "4              4      5  9305-CDSKC  Female            No      No         No   \n",
       "...          ...    ...         ...     ...           ...     ...        ...   \n",
       "6038        6038   7037  2569-WGERO  Female            No      No         No   \n",
       "6039        6039   7038  6840-RESVB    Male            No     Yes        Yes   \n",
       "6040        6040   7039  2234-XADUH  Female            No     Yes        Yes   \n",
       "6041        6041   7041  8361-LTMKD    Male           Yes     Yes         No   \n",
       "6042        6042   7042  3186-AJIEK    Male            No      No         No   \n",
       "\n",
       "      tenure PhoneService     MultipleLines  ... DeviceProtection TechSupport  \\\n",
       "0         34          Yes                No  ...              Yes          No   \n",
       "1          2          Yes                No  ...               No          No   \n",
       "2         45           No  No phone service  ...              Yes         Yes   \n",
       "3          2          Yes                No  ...               No          No   \n",
       "4          8          Yes               Yes  ...              Yes          No   \n",
       "...      ...          ...               ...  ...              ...         ...   \n",
       "6038      72          Yes                No  ...               No          No   \n",
       "6039      24          Yes               Yes  ...              Yes         Yes   \n",
       "6040      72          Yes               Yes  ...              Yes          No   \n",
       "6041       4          Yes               Yes  ...               No          No   \n",
       "6042      66          Yes                No  ...              Yes         Yes   \n",
       "\n",
       "     StreamingTV StreamingMovies        Contract PaperlessBilling  \\\n",
       "0             No              No        One year               No   \n",
       "1             No              No  Month-to-month              Yes   \n",
       "2             No              No        One year               No   \n",
       "3             No              No  Month-to-month              Yes   \n",
       "4            Yes             Yes  Month-to-month              Yes   \n",
       "...          ...             ...             ...              ...   \n",
       "6038          No              No        Two year              Yes   \n",
       "6039         Yes             Yes        One year              Yes   \n",
       "6040         Yes             Yes        One year              Yes   \n",
       "6041          No              No  Month-to-month              Yes   \n",
       "6042         Yes             Yes        Two year              Yes   \n",
       "\n",
       "                  PaymentMethod MonthlyCharges TotalCharges Churn  \n",
       "0                  Mailed check          56.95      1889.50    No  \n",
       "1                  Mailed check          53.85       108.15   Yes  \n",
       "2     Bank transfer (automatic)          42.30      1840.75    No  \n",
       "3              Electronic check          70.70       151.65   Yes  \n",
       "4              Electronic check          99.65       820.50   Yes  \n",
       "...                         ...            ...          ...   ...  \n",
       "6038  Bank transfer (automatic)          21.15      1419.40    No  \n",
       "6039               Mailed check          84.80      1990.50    No  \n",
       "6040    Credit card (automatic)         103.20      7362.90    No  \n",
       "6041               Mailed check          74.40       306.60   Yes  \n",
       "6042  Bank transfer (automatic)         105.65      6844.50    No  \n",
       "\n",
       "[6043 rows x 23 columns]"
      ]
     },
     "execution_count": 3,
     "metadata": {},
     "output_type": "execute_result"
    }
   ],
   "source": [
    "data = pd.read_csv(file)\n",
    "data"
   ]
  },
  {
   "cell_type": "code",
   "execution_count": 4,
   "metadata": {
    "ExecuteTime": {
     "end_time": "2020-06-12T19:05:55.817749Z",
     "start_time": "2020-06-12T19:05:55.804783Z"
    }
   },
   "outputs": [
    {
     "name": "stdout",
     "output_type": "stream",
     "text": [
      "<class 'pandas.core.frame.DataFrame'>\n",
      "RangeIndex: 6043 entries, 0 to 6042\n",
      "Data columns (total 23 columns):\n",
      " #   Column            Non-Null Count  Dtype  \n",
      "---  ------            --------------  -----  \n",
      " 0   Unnamed: 0        6043 non-null   int64  \n",
      " 1   index             6043 non-null   int64  \n",
      " 2   customerID        6043 non-null   object \n",
      " 3   gender            6043 non-null   object \n",
      " 4   SeniorCitizen     6043 non-null   object \n",
      " 5   Partner           6043 non-null   object \n",
      " 6   Dependents        6043 non-null   object \n",
      " 7   tenure            6043 non-null   int64  \n",
      " 8   PhoneService      6043 non-null   object \n",
      " 9   MultipleLines     6043 non-null   object \n",
      " 10  InternetService   6043 non-null   object \n",
      " 11  OnlineSecurity    6043 non-null   object \n",
      " 12  OnlineBackup      6043 non-null   object \n",
      " 13  DeviceProtection  6043 non-null   object \n",
      " 14  TechSupport       6043 non-null   object \n",
      " 15  StreamingTV       6043 non-null   object \n",
      " 16  StreamingMovies   6043 non-null   object \n",
      " 17  Contract          6043 non-null   object \n",
      " 18  PaperlessBilling  6043 non-null   object \n",
      " 19  PaymentMethod     6043 non-null   object \n",
      " 20  MonthlyCharges    6043 non-null   float64\n",
      " 21  TotalCharges      6043 non-null   float64\n",
      " 22  Churn             6043 non-null   object \n",
      "dtypes: float64(2), int64(3), object(18)\n",
      "memory usage: 1.1+ MB\n"
     ]
    }
   ],
   "source": [
    "data.info()"
   ]
  },
  {
   "cell_type": "code",
   "execution_count": 5,
   "metadata": {
    "ExecuteTime": {
     "end_time": "2020-06-12T19:05:55.828720Z",
     "start_time": "2020-06-12T19:05:55.818746Z"
    }
   },
   "outputs": [],
   "source": [
    "datac = data.copy()"
   ]
  },
  {
   "cell_type": "code",
   "execution_count": 6,
   "metadata": {
    "ExecuteTime": {
     "end_time": "2020-06-12T19:05:55.834704Z",
     "start_time": "2020-06-12T19:05:55.829716Z"
    }
   },
   "outputs": [],
   "source": [
    "##2nd task"
   ]
  },
  {
   "cell_type": "code",
   "execution_count": 7,
   "metadata": {
    "ExecuteTime": {
     "end_time": "2020-06-12T19:05:55.844677Z",
     "start_time": "2020-06-12T19:05:55.835729Z"
    }
   },
   "outputs": [],
   "source": [
    "def tg(x):\n",
    "    if x < 12:\n",
    "        return '0-12'\n",
    "    elif x < 24:\n",
    "        return '12-24'\n",
    "    elif x < 36:\n",
    "        return '24-36'\n",
    "    elif x < 48:\n",
    "        return '36-48'\n",
    "    elif x < 60:\n",
    "        return '48-60'\n",
    "    else:\n",
    "        return '60+'"
   ]
  },
  {
   "cell_type": "code",
   "execution_count": 8,
   "metadata": {
    "ExecuteTime": {
     "end_time": "2020-06-12T19:05:55.853652Z",
     "start_time": "2020-06-12T19:05:55.846700Z"
    }
   },
   "outputs": [],
   "source": [
    "datac['tenure_group'] = datac['tenure'].apply(lambda x: tg(x))"
   ]
  },
  {
   "cell_type": "code",
   "execution_count": 9,
   "metadata": {
    "ExecuteTime": {
     "end_time": "2020-06-12T19:05:55.865641Z",
     "start_time": "2020-06-12T19:05:55.854650Z"
    }
   },
   "outputs": [
    {
     "data": {
      "text/plain": [
       "0-12     1573\n",
       "60+      1462\n",
       "12-24     844\n",
       "48-60     775\n",
       "24-36     719\n",
       "36-48     670\n",
       "Name: tenure_group, dtype: int64"
      ]
     },
     "execution_count": 9,
     "metadata": {},
     "output_type": "execute_result"
    }
   ],
   "source": [
    "datac['tenure_group'].value_counts()"
   ]
  },
  {
   "cell_type": "code",
   "execution_count": 10,
   "metadata": {
    "ExecuteTime": {
     "end_time": "2020-06-12T19:05:55.899555Z",
     "start_time": "2020-06-12T19:05:55.866618Z"
    }
   },
   "outputs": [],
   "source": [
    "from sklearn.preprocessing import LabelEncoder"
   ]
  },
  {
   "cell_type": "code",
   "execution_count": 11,
   "metadata": {
    "ExecuteTime": {
     "end_time": "2020-06-12T19:05:55.903520Z",
     "start_time": "2020-06-12T19:05:55.900527Z"
    }
   },
   "outputs": [],
   "source": [
    "le = LabelEncoder()"
   ]
  },
  {
   "cell_type": "code",
   "execution_count": 12,
   "metadata": {
    "ExecuteTime": {
     "end_time": "2020-06-12T19:05:55.917505Z",
     "start_time": "2020-06-12T19:05:55.904518Z"
    }
   },
   "outputs": [],
   "source": [
    "lis = []\n",
    "for i in datac.columns:\n",
    "    if datac[i].dtype == 'object' and datac[i].nunique() == 2:\n",
    "        lis.append(i)"
   ]
  },
  {
   "cell_type": "code",
   "execution_count": 55,
   "metadata": {
    "ExecuteTime": {
     "end_time": "2020-06-12T19:07:10.870077Z",
     "start_time": "2020-06-12T19:07:10.865068Z"
    }
   },
   "outputs": [
    {
     "data": {
      "text/plain": [
       "13"
      ]
     },
     "execution_count": 55,
     "metadata": {},
     "output_type": "execute_result"
    }
   ],
   "source": [
    "len(lis)"
   ]
  },
  {
   "cell_type": "code",
   "execution_count": 13,
   "metadata": {
    "ExecuteTime": {
     "end_time": "2020-06-12T19:05:55.978861Z",
     "start_time": "2020-06-12T19:05:55.918480Z"
    }
   },
   "outputs": [
    {
     "data": {
      "text/html": [
       "<div>\n",
       "<style scoped>\n",
       "    .dataframe tbody tr th:only-of-type {\n",
       "        vertical-align: middle;\n",
       "    }\n",
       "\n",
       "    .dataframe tbody tr th {\n",
       "        vertical-align: top;\n",
       "    }\n",
       "\n",
       "    .dataframe thead th {\n",
       "        text-align: right;\n",
       "    }\n",
       "</style>\n",
       "<table border=\"1\" class=\"dataframe\">\n",
       "  <thead>\n",
       "    <tr style=\"text-align: right;\">\n",
       "      <th></th>\n",
       "      <th>Unnamed: 0</th>\n",
       "      <th>index</th>\n",
       "      <th>customerID</th>\n",
       "      <th>tenure</th>\n",
       "      <th>MultipleLines</th>\n",
       "      <th>InternetService</th>\n",
       "      <th>Contract</th>\n",
       "      <th>PaymentMethod</th>\n",
       "      <th>MonthlyCharges</th>\n",
       "      <th>TotalCharges</th>\n",
       "      <th>...</th>\n",
       "      <th>Dependents_le</th>\n",
       "      <th>PhoneService_le</th>\n",
       "      <th>OnlineSecurity_le</th>\n",
       "      <th>OnlineBackup_le</th>\n",
       "      <th>DeviceProtection_le</th>\n",
       "      <th>TechSupport_le</th>\n",
       "      <th>StreamingTV_le</th>\n",
       "      <th>StreamingMovies_le</th>\n",
       "      <th>PaperlessBilling_le</th>\n",
       "      <th>Churn_le</th>\n",
       "    </tr>\n",
       "  </thead>\n",
       "  <tbody>\n",
       "    <tr>\n",
       "      <th>0</th>\n",
       "      <td>0</td>\n",
       "      <td>1</td>\n",
       "      <td>5575-GNVDE</td>\n",
       "      <td>34</td>\n",
       "      <td>No</td>\n",
       "      <td>DSL</td>\n",
       "      <td>One year</td>\n",
       "      <td>Mailed check</td>\n",
       "      <td>56.95</td>\n",
       "      <td>1889.50</td>\n",
       "      <td>...</td>\n",
       "      <td>0</td>\n",
       "      <td>1</td>\n",
       "      <td>1</td>\n",
       "      <td>0</td>\n",
       "      <td>1</td>\n",
       "      <td>0</td>\n",
       "      <td>0</td>\n",
       "      <td>0</td>\n",
       "      <td>0</td>\n",
       "      <td>0</td>\n",
       "    </tr>\n",
       "    <tr>\n",
       "      <th>1</th>\n",
       "      <td>1</td>\n",
       "      <td>2</td>\n",
       "      <td>3668-QPYBK</td>\n",
       "      <td>2</td>\n",
       "      <td>No</td>\n",
       "      <td>DSL</td>\n",
       "      <td>Month-to-month</td>\n",
       "      <td>Mailed check</td>\n",
       "      <td>53.85</td>\n",
       "      <td>108.15</td>\n",
       "      <td>...</td>\n",
       "      <td>0</td>\n",
       "      <td>1</td>\n",
       "      <td>1</td>\n",
       "      <td>1</td>\n",
       "      <td>0</td>\n",
       "      <td>0</td>\n",
       "      <td>0</td>\n",
       "      <td>0</td>\n",
       "      <td>1</td>\n",
       "      <td>1</td>\n",
       "    </tr>\n",
       "    <tr>\n",
       "      <th>2</th>\n",
       "      <td>2</td>\n",
       "      <td>3</td>\n",
       "      <td>7795-CFOCW</td>\n",
       "      <td>45</td>\n",
       "      <td>No phone service</td>\n",
       "      <td>DSL</td>\n",
       "      <td>One year</td>\n",
       "      <td>Bank transfer (automatic)</td>\n",
       "      <td>42.30</td>\n",
       "      <td>1840.75</td>\n",
       "      <td>...</td>\n",
       "      <td>0</td>\n",
       "      <td>0</td>\n",
       "      <td>1</td>\n",
       "      <td>0</td>\n",
       "      <td>1</td>\n",
       "      <td>1</td>\n",
       "      <td>0</td>\n",
       "      <td>0</td>\n",
       "      <td>0</td>\n",
       "      <td>0</td>\n",
       "    </tr>\n",
       "    <tr>\n",
       "      <th>3</th>\n",
       "      <td>3</td>\n",
       "      <td>4</td>\n",
       "      <td>9237-HQITU</td>\n",
       "      <td>2</td>\n",
       "      <td>No</td>\n",
       "      <td>Fiber optic</td>\n",
       "      <td>Month-to-month</td>\n",
       "      <td>Electronic check</td>\n",
       "      <td>70.70</td>\n",
       "      <td>151.65</td>\n",
       "      <td>...</td>\n",
       "      <td>0</td>\n",
       "      <td>1</td>\n",
       "      <td>0</td>\n",
       "      <td>0</td>\n",
       "      <td>0</td>\n",
       "      <td>0</td>\n",
       "      <td>0</td>\n",
       "      <td>0</td>\n",
       "      <td>1</td>\n",
       "      <td>1</td>\n",
       "    </tr>\n",
       "    <tr>\n",
       "      <th>4</th>\n",
       "      <td>4</td>\n",
       "      <td>5</td>\n",
       "      <td>9305-CDSKC</td>\n",
       "      <td>8</td>\n",
       "      <td>Yes</td>\n",
       "      <td>Fiber optic</td>\n",
       "      <td>Month-to-month</td>\n",
       "      <td>Electronic check</td>\n",
       "      <td>99.65</td>\n",
       "      <td>820.50</td>\n",
       "      <td>...</td>\n",
       "      <td>0</td>\n",
       "      <td>1</td>\n",
       "      <td>0</td>\n",
       "      <td>0</td>\n",
       "      <td>1</td>\n",
       "      <td>0</td>\n",
       "      <td>1</td>\n",
       "      <td>1</td>\n",
       "      <td>1</td>\n",
       "      <td>1</td>\n",
       "    </tr>\n",
       "    <tr>\n",
       "      <th>...</th>\n",
       "      <td>...</td>\n",
       "      <td>...</td>\n",
       "      <td>...</td>\n",
       "      <td>...</td>\n",
       "      <td>...</td>\n",
       "      <td>...</td>\n",
       "      <td>...</td>\n",
       "      <td>...</td>\n",
       "      <td>...</td>\n",
       "      <td>...</td>\n",
       "      <td>...</td>\n",
       "      <td>...</td>\n",
       "      <td>...</td>\n",
       "      <td>...</td>\n",
       "      <td>...</td>\n",
       "      <td>...</td>\n",
       "      <td>...</td>\n",
       "      <td>...</td>\n",
       "      <td>...</td>\n",
       "      <td>...</td>\n",
       "      <td>...</td>\n",
       "    </tr>\n",
       "    <tr>\n",
       "      <th>6038</th>\n",
       "      <td>6038</td>\n",
       "      <td>7037</td>\n",
       "      <td>2569-WGERO</td>\n",
       "      <td>72</td>\n",
       "      <td>No</td>\n",
       "      <td>No</td>\n",
       "      <td>Two year</td>\n",
       "      <td>Bank transfer (automatic)</td>\n",
       "      <td>21.15</td>\n",
       "      <td>1419.40</td>\n",
       "      <td>...</td>\n",
       "      <td>0</td>\n",
       "      <td>1</td>\n",
       "      <td>0</td>\n",
       "      <td>0</td>\n",
       "      <td>0</td>\n",
       "      <td>0</td>\n",
       "      <td>0</td>\n",
       "      <td>0</td>\n",
       "      <td>1</td>\n",
       "      <td>0</td>\n",
       "    </tr>\n",
       "    <tr>\n",
       "      <th>6039</th>\n",
       "      <td>6039</td>\n",
       "      <td>7038</td>\n",
       "      <td>6840-RESVB</td>\n",
       "      <td>24</td>\n",
       "      <td>Yes</td>\n",
       "      <td>DSL</td>\n",
       "      <td>One year</td>\n",
       "      <td>Mailed check</td>\n",
       "      <td>84.80</td>\n",
       "      <td>1990.50</td>\n",
       "      <td>...</td>\n",
       "      <td>1</td>\n",
       "      <td>1</td>\n",
       "      <td>1</td>\n",
       "      <td>0</td>\n",
       "      <td>1</td>\n",
       "      <td>1</td>\n",
       "      <td>1</td>\n",
       "      <td>1</td>\n",
       "      <td>1</td>\n",
       "      <td>0</td>\n",
       "    </tr>\n",
       "    <tr>\n",
       "      <th>6040</th>\n",
       "      <td>6040</td>\n",
       "      <td>7039</td>\n",
       "      <td>2234-XADUH</td>\n",
       "      <td>72</td>\n",
       "      <td>Yes</td>\n",
       "      <td>Fiber optic</td>\n",
       "      <td>One year</td>\n",
       "      <td>Credit card (automatic)</td>\n",
       "      <td>103.20</td>\n",
       "      <td>7362.90</td>\n",
       "      <td>...</td>\n",
       "      <td>1</td>\n",
       "      <td>1</td>\n",
       "      <td>0</td>\n",
       "      <td>1</td>\n",
       "      <td>1</td>\n",
       "      <td>0</td>\n",
       "      <td>1</td>\n",
       "      <td>1</td>\n",
       "      <td>1</td>\n",
       "      <td>0</td>\n",
       "    </tr>\n",
       "    <tr>\n",
       "      <th>6041</th>\n",
       "      <td>6041</td>\n",
       "      <td>7041</td>\n",
       "      <td>8361-LTMKD</td>\n",
       "      <td>4</td>\n",
       "      <td>Yes</td>\n",
       "      <td>Fiber optic</td>\n",
       "      <td>Month-to-month</td>\n",
       "      <td>Mailed check</td>\n",
       "      <td>74.40</td>\n",
       "      <td>306.60</td>\n",
       "      <td>...</td>\n",
       "      <td>0</td>\n",
       "      <td>1</td>\n",
       "      <td>0</td>\n",
       "      <td>0</td>\n",
       "      <td>0</td>\n",
       "      <td>0</td>\n",
       "      <td>0</td>\n",
       "      <td>0</td>\n",
       "      <td>1</td>\n",
       "      <td>1</td>\n",
       "    </tr>\n",
       "    <tr>\n",
       "      <th>6042</th>\n",
       "      <td>6042</td>\n",
       "      <td>7042</td>\n",
       "      <td>3186-AJIEK</td>\n",
       "      <td>66</td>\n",
       "      <td>No</td>\n",
       "      <td>Fiber optic</td>\n",
       "      <td>Two year</td>\n",
       "      <td>Bank transfer (automatic)</td>\n",
       "      <td>105.65</td>\n",
       "      <td>6844.50</td>\n",
       "      <td>...</td>\n",
       "      <td>0</td>\n",
       "      <td>1</td>\n",
       "      <td>1</td>\n",
       "      <td>0</td>\n",
       "      <td>1</td>\n",
       "      <td>1</td>\n",
       "      <td>1</td>\n",
       "      <td>1</td>\n",
       "      <td>1</td>\n",
       "      <td>0</td>\n",
       "    </tr>\n",
       "  </tbody>\n",
       "</table>\n",
       "<p>6043 rows × 24 columns</p>\n",
       "</div>"
      ],
      "text/plain": [
       "      Unnamed: 0  index  customerID  tenure     MultipleLines InternetService  \\\n",
       "0              0      1  5575-GNVDE      34                No             DSL   \n",
       "1              1      2  3668-QPYBK       2                No             DSL   \n",
       "2              2      3  7795-CFOCW      45  No phone service             DSL   \n",
       "3              3      4  9237-HQITU       2                No     Fiber optic   \n",
       "4              4      5  9305-CDSKC       8               Yes     Fiber optic   \n",
       "...          ...    ...         ...     ...               ...             ...   \n",
       "6038        6038   7037  2569-WGERO      72                No              No   \n",
       "6039        6039   7038  6840-RESVB      24               Yes             DSL   \n",
       "6040        6040   7039  2234-XADUH      72               Yes     Fiber optic   \n",
       "6041        6041   7041  8361-LTMKD       4               Yes     Fiber optic   \n",
       "6042        6042   7042  3186-AJIEK      66                No     Fiber optic   \n",
       "\n",
       "            Contract              PaymentMethod  MonthlyCharges  TotalCharges  \\\n",
       "0           One year               Mailed check           56.95       1889.50   \n",
       "1     Month-to-month               Mailed check           53.85        108.15   \n",
       "2           One year  Bank transfer (automatic)           42.30       1840.75   \n",
       "3     Month-to-month           Electronic check           70.70        151.65   \n",
       "4     Month-to-month           Electronic check           99.65        820.50   \n",
       "...              ...                        ...             ...           ...   \n",
       "6038        Two year  Bank transfer (automatic)           21.15       1419.40   \n",
       "6039        One year               Mailed check           84.80       1990.50   \n",
       "6040        One year    Credit card (automatic)          103.20       7362.90   \n",
       "6041  Month-to-month               Mailed check           74.40        306.60   \n",
       "6042        Two year  Bank transfer (automatic)          105.65       6844.50   \n",
       "\n",
       "      ... Dependents_le  PhoneService_le  OnlineSecurity_le  OnlineBackup_le  \\\n",
       "0     ...             0                1                  1                0   \n",
       "1     ...             0                1                  1                1   \n",
       "2     ...             0                0                  1                0   \n",
       "3     ...             0                1                  0                0   \n",
       "4     ...             0                1                  0                0   \n",
       "...   ...           ...              ...                ...              ...   \n",
       "6038  ...             0                1                  0                0   \n",
       "6039  ...             1                1                  1                0   \n",
       "6040  ...             1                1                  0                1   \n",
       "6041  ...             0                1                  0                0   \n",
       "6042  ...             0                1                  1                0   \n",
       "\n",
       "      DeviceProtection_le  TechSupport_le  StreamingTV_le  StreamingMovies_le  \\\n",
       "0                       1               0               0                   0   \n",
       "1                       0               0               0                   0   \n",
       "2                       1               1               0                   0   \n",
       "3                       0               0               0                   0   \n",
       "4                       1               0               1                   1   \n",
       "...                   ...             ...             ...                 ...   \n",
       "6038                    0               0               0                   0   \n",
       "6039                    1               1               1                   1   \n",
       "6040                    1               0               1                   1   \n",
       "6041                    0               0               0                   0   \n",
       "6042                    1               1               1                   1   \n",
       "\n",
       "      PaperlessBilling_le  Churn_le  \n",
       "0                       0         0  \n",
       "1                       1         1  \n",
       "2                       0         0  \n",
       "3                       1         1  \n",
       "4                       1         1  \n",
       "...                   ...       ...  \n",
       "6038                    1         0  \n",
       "6039                    1         0  \n",
       "6040                    1         0  \n",
       "6041                    1         1  \n",
       "6042                    1         0  \n",
       "\n",
       "[6043 rows x 24 columns]"
      ]
     },
     "execution_count": 13,
     "metadata": {},
     "output_type": "execute_result"
    }
   ],
   "source": [
    "for i in lis:\n",
    "    datac[i+'_le'] = le.fit_transform(datac[i])\n",
    "    datac.drop(i, axis = 1, inplace = True)\n",
    "datac"
   ]
  },
  {
   "cell_type": "code",
   "execution_count": 14,
   "metadata": {
    "ExecuteTime": {
     "end_time": "2020-06-12T19:05:55.983871Z",
     "start_time": "2020-06-12T19:05:55.979858Z"
    }
   },
   "outputs": [],
   "source": [
    "datac = datac.drop(datac.columns[:3], axis = 1)"
   ]
  },
  {
   "cell_type": "code",
   "execution_count": 15,
   "metadata": {
    "ExecuteTime": {
     "end_time": "2020-06-12T19:05:55.993898Z",
     "start_time": "2020-06-12T19:05:55.984846Z"
    }
   },
   "outputs": [],
   "source": [
    "lis_ohe = []\n",
    "for i in datac.columns:\n",
    "    if datac[i].dtype == 'object' and datac[i].nunique() > 2:\n",
    "        lis_ohe.append(i)"
   ]
  },
  {
   "cell_type": "code",
   "execution_count": 56,
   "metadata": {
    "ExecuteTime": {
     "end_time": "2020-06-12T19:07:35.151470Z",
     "start_time": "2020-06-12T19:07:35.147483Z"
    }
   },
   "outputs": [
    {
     "data": {
      "text/plain": [
       "(5,\n",
       " ['MultipleLines',\n",
       "  'InternetService',\n",
       "  'Contract',\n",
       "  'PaymentMethod',\n",
       "  'tenure_group'])"
      ]
     },
     "execution_count": 56,
     "metadata": {},
     "output_type": "execute_result"
    }
   ],
   "source": [
    "len(lis_ohe), lis_ohe"
   ]
  },
  {
   "cell_type": "code",
   "execution_count": 16,
   "metadata": {
    "ExecuteTime": {
     "end_time": "2020-06-12T19:05:56.013767Z",
     "start_time": "2020-06-12T19:05:55.994819Z"
    }
   },
   "outputs": [],
   "source": [
    "datac = pd.concat([datac, pd.get_dummies(datac[lis_ohe])], axis = 1)"
   ]
  },
  {
   "cell_type": "code",
   "execution_count": 17,
   "metadata": {
    "ExecuteTime": {
     "end_time": "2020-06-12T19:05:56.019752Z",
     "start_time": "2020-06-12T19:05:56.014767Z"
    }
   },
   "outputs": [],
   "source": [
    "datac = datac.drop(lis_ohe, axis = 1)"
   ]
  },
  {
   "cell_type": "code",
   "execution_count": 18,
   "metadata": {
    "ExecuteTime": {
     "end_time": "2020-06-12T19:05:56.044459Z",
     "start_time": "2020-06-12T19:05:56.020749Z"
    }
   },
   "outputs": [
    {
     "data": {
      "text/html": [
       "<div>\n",
       "<style scoped>\n",
       "    .dataframe tbody tr th:only-of-type {\n",
       "        vertical-align: middle;\n",
       "    }\n",
       "\n",
       "    .dataframe tbody tr th {\n",
       "        vertical-align: top;\n",
       "    }\n",
       "\n",
       "    .dataframe thead th {\n",
       "        text-align: right;\n",
       "    }\n",
       "</style>\n",
       "<table border=\"1\" class=\"dataframe\">\n",
       "  <thead>\n",
       "    <tr style=\"text-align: right;\">\n",
       "      <th></th>\n",
       "      <th>tenure</th>\n",
       "      <th>MonthlyCharges</th>\n",
       "      <th>TotalCharges</th>\n",
       "      <th>gender_le</th>\n",
       "      <th>SeniorCitizen_le</th>\n",
       "      <th>Partner_le</th>\n",
       "      <th>Dependents_le</th>\n",
       "      <th>PhoneService_le</th>\n",
       "      <th>OnlineSecurity_le</th>\n",
       "      <th>OnlineBackup_le</th>\n",
       "      <th>...</th>\n",
       "      <th>PaymentMethod_Bank transfer (automatic)</th>\n",
       "      <th>PaymentMethod_Credit card (automatic)</th>\n",
       "      <th>PaymentMethod_Electronic check</th>\n",
       "      <th>PaymentMethod_Mailed check</th>\n",
       "      <th>tenure_group_0-12</th>\n",
       "      <th>tenure_group_12-24</th>\n",
       "      <th>tenure_group_24-36</th>\n",
       "      <th>tenure_group_36-48</th>\n",
       "      <th>tenure_group_48-60</th>\n",
       "      <th>tenure_group_60+</th>\n",
       "    </tr>\n",
       "  </thead>\n",
       "  <tbody>\n",
       "    <tr>\n",
       "      <th>0</th>\n",
       "      <td>34</td>\n",
       "      <td>56.95</td>\n",
       "      <td>1889.50</td>\n",
       "      <td>1</td>\n",
       "      <td>0</td>\n",
       "      <td>0</td>\n",
       "      <td>0</td>\n",
       "      <td>1</td>\n",
       "      <td>1</td>\n",
       "      <td>0</td>\n",
       "      <td>...</td>\n",
       "      <td>0</td>\n",
       "      <td>0</td>\n",
       "      <td>0</td>\n",
       "      <td>1</td>\n",
       "      <td>0</td>\n",
       "      <td>0</td>\n",
       "      <td>1</td>\n",
       "      <td>0</td>\n",
       "      <td>0</td>\n",
       "      <td>0</td>\n",
       "    </tr>\n",
       "    <tr>\n",
       "      <th>1</th>\n",
       "      <td>2</td>\n",
       "      <td>53.85</td>\n",
       "      <td>108.15</td>\n",
       "      <td>1</td>\n",
       "      <td>0</td>\n",
       "      <td>0</td>\n",
       "      <td>0</td>\n",
       "      <td>1</td>\n",
       "      <td>1</td>\n",
       "      <td>1</td>\n",
       "      <td>...</td>\n",
       "      <td>0</td>\n",
       "      <td>0</td>\n",
       "      <td>0</td>\n",
       "      <td>1</td>\n",
       "      <td>1</td>\n",
       "      <td>0</td>\n",
       "      <td>0</td>\n",
       "      <td>0</td>\n",
       "      <td>0</td>\n",
       "      <td>0</td>\n",
       "    </tr>\n",
       "    <tr>\n",
       "      <th>2</th>\n",
       "      <td>45</td>\n",
       "      <td>42.30</td>\n",
       "      <td>1840.75</td>\n",
       "      <td>1</td>\n",
       "      <td>0</td>\n",
       "      <td>0</td>\n",
       "      <td>0</td>\n",
       "      <td>0</td>\n",
       "      <td>1</td>\n",
       "      <td>0</td>\n",
       "      <td>...</td>\n",
       "      <td>1</td>\n",
       "      <td>0</td>\n",
       "      <td>0</td>\n",
       "      <td>0</td>\n",
       "      <td>0</td>\n",
       "      <td>0</td>\n",
       "      <td>0</td>\n",
       "      <td>1</td>\n",
       "      <td>0</td>\n",
       "      <td>0</td>\n",
       "    </tr>\n",
       "    <tr>\n",
       "      <th>3</th>\n",
       "      <td>2</td>\n",
       "      <td>70.70</td>\n",
       "      <td>151.65</td>\n",
       "      <td>0</td>\n",
       "      <td>0</td>\n",
       "      <td>0</td>\n",
       "      <td>0</td>\n",
       "      <td>1</td>\n",
       "      <td>0</td>\n",
       "      <td>0</td>\n",
       "      <td>...</td>\n",
       "      <td>0</td>\n",
       "      <td>0</td>\n",
       "      <td>1</td>\n",
       "      <td>0</td>\n",
       "      <td>1</td>\n",
       "      <td>0</td>\n",
       "      <td>0</td>\n",
       "      <td>0</td>\n",
       "      <td>0</td>\n",
       "      <td>0</td>\n",
       "    </tr>\n",
       "    <tr>\n",
       "      <th>4</th>\n",
       "      <td>8</td>\n",
       "      <td>99.65</td>\n",
       "      <td>820.50</td>\n",
       "      <td>0</td>\n",
       "      <td>0</td>\n",
       "      <td>0</td>\n",
       "      <td>0</td>\n",
       "      <td>1</td>\n",
       "      <td>0</td>\n",
       "      <td>0</td>\n",
       "      <td>...</td>\n",
       "      <td>0</td>\n",
       "      <td>0</td>\n",
       "      <td>1</td>\n",
       "      <td>0</td>\n",
       "      <td>1</td>\n",
       "      <td>0</td>\n",
       "      <td>0</td>\n",
       "      <td>0</td>\n",
       "      <td>0</td>\n",
       "      <td>0</td>\n",
       "    </tr>\n",
       "    <tr>\n",
       "      <th>...</th>\n",
       "      <td>...</td>\n",
       "      <td>...</td>\n",
       "      <td>...</td>\n",
       "      <td>...</td>\n",
       "      <td>...</td>\n",
       "      <td>...</td>\n",
       "      <td>...</td>\n",
       "      <td>...</td>\n",
       "      <td>...</td>\n",
       "      <td>...</td>\n",
       "      <td>...</td>\n",
       "      <td>...</td>\n",
       "      <td>...</td>\n",
       "      <td>...</td>\n",
       "      <td>...</td>\n",
       "      <td>...</td>\n",
       "      <td>...</td>\n",
       "      <td>...</td>\n",
       "      <td>...</td>\n",
       "      <td>...</td>\n",
       "      <td>...</td>\n",
       "    </tr>\n",
       "    <tr>\n",
       "      <th>6038</th>\n",
       "      <td>72</td>\n",
       "      <td>21.15</td>\n",
       "      <td>1419.40</td>\n",
       "      <td>0</td>\n",
       "      <td>0</td>\n",
       "      <td>0</td>\n",
       "      <td>0</td>\n",
       "      <td>1</td>\n",
       "      <td>0</td>\n",
       "      <td>0</td>\n",
       "      <td>...</td>\n",
       "      <td>1</td>\n",
       "      <td>0</td>\n",
       "      <td>0</td>\n",
       "      <td>0</td>\n",
       "      <td>0</td>\n",
       "      <td>0</td>\n",
       "      <td>0</td>\n",
       "      <td>0</td>\n",
       "      <td>0</td>\n",
       "      <td>1</td>\n",
       "    </tr>\n",
       "    <tr>\n",
       "      <th>6039</th>\n",
       "      <td>24</td>\n",
       "      <td>84.80</td>\n",
       "      <td>1990.50</td>\n",
       "      <td>1</td>\n",
       "      <td>0</td>\n",
       "      <td>1</td>\n",
       "      <td>1</td>\n",
       "      <td>1</td>\n",
       "      <td>1</td>\n",
       "      <td>0</td>\n",
       "      <td>...</td>\n",
       "      <td>0</td>\n",
       "      <td>0</td>\n",
       "      <td>0</td>\n",
       "      <td>1</td>\n",
       "      <td>0</td>\n",
       "      <td>0</td>\n",
       "      <td>1</td>\n",
       "      <td>0</td>\n",
       "      <td>0</td>\n",
       "      <td>0</td>\n",
       "    </tr>\n",
       "    <tr>\n",
       "      <th>6040</th>\n",
       "      <td>72</td>\n",
       "      <td>103.20</td>\n",
       "      <td>7362.90</td>\n",
       "      <td>0</td>\n",
       "      <td>0</td>\n",
       "      <td>1</td>\n",
       "      <td>1</td>\n",
       "      <td>1</td>\n",
       "      <td>0</td>\n",
       "      <td>1</td>\n",
       "      <td>...</td>\n",
       "      <td>0</td>\n",
       "      <td>1</td>\n",
       "      <td>0</td>\n",
       "      <td>0</td>\n",
       "      <td>0</td>\n",
       "      <td>0</td>\n",
       "      <td>0</td>\n",
       "      <td>0</td>\n",
       "      <td>0</td>\n",
       "      <td>1</td>\n",
       "    </tr>\n",
       "    <tr>\n",
       "      <th>6041</th>\n",
       "      <td>4</td>\n",
       "      <td>74.40</td>\n",
       "      <td>306.60</td>\n",
       "      <td>1</td>\n",
       "      <td>1</td>\n",
       "      <td>1</td>\n",
       "      <td>0</td>\n",
       "      <td>1</td>\n",
       "      <td>0</td>\n",
       "      <td>0</td>\n",
       "      <td>...</td>\n",
       "      <td>0</td>\n",
       "      <td>0</td>\n",
       "      <td>0</td>\n",
       "      <td>1</td>\n",
       "      <td>1</td>\n",
       "      <td>0</td>\n",
       "      <td>0</td>\n",
       "      <td>0</td>\n",
       "      <td>0</td>\n",
       "      <td>0</td>\n",
       "    </tr>\n",
       "    <tr>\n",
       "      <th>6042</th>\n",
       "      <td>66</td>\n",
       "      <td>105.65</td>\n",
       "      <td>6844.50</td>\n",
       "      <td>1</td>\n",
       "      <td>0</td>\n",
       "      <td>0</td>\n",
       "      <td>0</td>\n",
       "      <td>1</td>\n",
       "      <td>1</td>\n",
       "      <td>0</td>\n",
       "      <td>...</td>\n",
       "      <td>1</td>\n",
       "      <td>0</td>\n",
       "      <td>0</td>\n",
       "      <td>0</td>\n",
       "      <td>0</td>\n",
       "      <td>0</td>\n",
       "      <td>0</td>\n",
       "      <td>0</td>\n",
       "      <td>0</td>\n",
       "      <td>1</td>\n",
       "    </tr>\n",
       "  </tbody>\n",
       "</table>\n",
       "<p>6043 rows × 35 columns</p>\n",
       "</div>"
      ],
      "text/plain": [
       "      tenure  MonthlyCharges  TotalCharges  gender_le  SeniorCitizen_le  \\\n",
       "0         34           56.95       1889.50          1                 0   \n",
       "1          2           53.85        108.15          1                 0   \n",
       "2         45           42.30       1840.75          1                 0   \n",
       "3          2           70.70        151.65          0                 0   \n",
       "4          8           99.65        820.50          0                 0   \n",
       "...      ...             ...           ...        ...               ...   \n",
       "6038      72           21.15       1419.40          0                 0   \n",
       "6039      24           84.80       1990.50          1                 0   \n",
       "6040      72          103.20       7362.90          0                 0   \n",
       "6041       4           74.40        306.60          1                 1   \n",
       "6042      66          105.65       6844.50          1                 0   \n",
       "\n",
       "      Partner_le  Dependents_le  PhoneService_le  OnlineSecurity_le  \\\n",
       "0              0              0                1                  1   \n",
       "1              0              0                1                  1   \n",
       "2              0              0                0                  1   \n",
       "3              0              0                1                  0   \n",
       "4              0              0                1                  0   \n",
       "...          ...            ...              ...                ...   \n",
       "6038           0              0                1                  0   \n",
       "6039           1              1                1                  1   \n",
       "6040           1              1                1                  0   \n",
       "6041           1              0                1                  0   \n",
       "6042           0              0                1                  1   \n",
       "\n",
       "      OnlineBackup_le  ...  PaymentMethod_Bank transfer (automatic)  \\\n",
       "0                   0  ...                                        0   \n",
       "1                   1  ...                                        0   \n",
       "2                   0  ...                                        1   \n",
       "3                   0  ...                                        0   \n",
       "4                   0  ...                                        0   \n",
       "...               ...  ...                                      ...   \n",
       "6038                0  ...                                        1   \n",
       "6039                0  ...                                        0   \n",
       "6040                1  ...                                        0   \n",
       "6041                0  ...                                        0   \n",
       "6042                0  ...                                        1   \n",
       "\n",
       "      PaymentMethod_Credit card (automatic)  PaymentMethod_Electronic check  \\\n",
       "0                                         0                               0   \n",
       "1                                         0                               0   \n",
       "2                                         0                               0   \n",
       "3                                         0                               1   \n",
       "4                                         0                               1   \n",
       "...                                     ...                             ...   \n",
       "6038                                      0                               0   \n",
       "6039                                      0                               0   \n",
       "6040                                      1                               0   \n",
       "6041                                      0                               0   \n",
       "6042                                      0                               0   \n",
       "\n",
       "      PaymentMethod_Mailed check  tenure_group_0-12  tenure_group_12-24  \\\n",
       "0                              1                  0                   0   \n",
       "1                              1                  1                   0   \n",
       "2                              0                  0                   0   \n",
       "3                              0                  1                   0   \n",
       "4                              0                  1                   0   \n",
       "...                          ...                ...                 ...   \n",
       "6038                           0                  0                   0   \n",
       "6039                           1                  0                   0   \n",
       "6040                           0                  0                   0   \n",
       "6041                           1                  1                   0   \n",
       "6042                           0                  0                   0   \n",
       "\n",
       "      tenure_group_24-36  tenure_group_36-48  tenure_group_48-60  \\\n",
       "0                      1                   0                   0   \n",
       "1                      0                   0                   0   \n",
       "2                      0                   1                   0   \n",
       "3                      0                   0                   0   \n",
       "4                      0                   0                   0   \n",
       "...                  ...                 ...                 ...   \n",
       "6038                   0                   0                   0   \n",
       "6039                   1                   0                   0   \n",
       "6040                   0                   0                   0   \n",
       "6041                   0                   0                   0   \n",
       "6042                   0                   0                   0   \n",
       "\n",
       "      tenure_group_60+  \n",
       "0                    0  \n",
       "1                    0  \n",
       "2                    0  \n",
       "3                    0  \n",
       "4                    0  \n",
       "...                ...  \n",
       "6038                 1  \n",
       "6039                 0  \n",
       "6040                 1  \n",
       "6041                 0  \n",
       "6042                 1  \n",
       "\n",
       "[6043 rows x 35 columns]"
      ]
     },
     "execution_count": 18,
     "metadata": {},
     "output_type": "execute_result"
    }
   ],
   "source": [
    "datac"
   ]
  },
  {
   "cell_type": "code",
   "execution_count": 19,
   "metadata": {
    "ExecuteTime": {
     "end_time": "2020-06-12T19:05:56.137569Z",
     "start_time": "2020-06-12T19:05:56.045456Z"
    }
   },
   "outputs": [],
   "source": [
    "from sklearn.linear_model import LogisticRegression\n",
    "from sklearn.ensemble import RandomForestClassifier\n",
    "from sklearn.model_selection import cross_val_score"
   ]
  },
  {
   "cell_type": "code",
   "execution_count": 20,
   "metadata": {
    "ExecuteTime": {
     "end_time": "2020-06-12T19:05:56.141559Z",
     "start_time": "2020-06-12T19:05:56.138567Z"
    }
   },
   "outputs": [],
   "source": [
    "lr = LogisticRegression(max_iter = 1000)\n",
    "rfc = RandomForestClassifier()"
   ]
  },
  {
   "cell_type": "code",
   "execution_count": 21,
   "metadata": {
    "ExecuteTime": {
     "end_time": "2020-06-12T19:05:56.153528Z",
     "start_time": "2020-06-12T19:05:56.142556Z"
    }
   },
   "outputs": [],
   "source": [
    "X = datac.drop('Churn_le', axis = 1)\n",
    "y = datac.Churn_le"
   ]
  },
  {
   "cell_type": "code",
   "execution_count": 22,
   "metadata": {
    "ExecuteTime": {
     "end_time": "2020-06-12T19:05:56.675149Z",
     "start_time": "2020-06-12T19:05:56.154525Z"
    }
   },
   "outputs": [
    {
     "data": {
      "text/plain": [
       "array([0.94110602, 0.94085946, 0.93662781, 0.91852756, 0.92074148])"
      ]
     },
     "execution_count": 22,
     "metadata": {},
     "output_type": "execute_result"
    }
   ],
   "source": [
    "cross_val_score(lr, X, y, cv=5, scoring=('roc_auc'))"
   ]
  },
  {
   "cell_type": "code",
   "execution_count": 23,
   "metadata": {
    "ExecuteTime": {
     "end_time": "2020-06-12T19:05:57.099017Z",
     "start_time": "2020-06-12T19:05:56.677144Z"
    }
   },
   "outputs": [
    {
     "data": {
      "text/plain": [
       "0.9315724665045515"
      ]
     },
     "execution_count": 23,
     "metadata": {},
     "output_type": "execute_result"
    }
   ],
   "source": [
    "cross_val_score(lr, X, y, cv=5, scoring=('roc_auc')).mean()"
   ]
  },
  {
   "cell_type": "code",
   "execution_count": 24,
   "metadata": {
    "ExecuteTime": {
     "end_time": "2020-06-12T19:05:59.210447Z",
     "start_time": "2020-06-12T19:05:57.100014Z"
    }
   },
   "outputs": [
    {
     "data": {
      "text/plain": [
       "array([0.92820936, 0.93523007, 0.92311794, 0.9022122 , 0.91543877])"
      ]
     },
     "execution_count": 24,
     "metadata": {},
     "output_type": "execute_result"
    }
   ],
   "source": [
    "cross_val_score(rfc, X, y, cv=5, scoring=('roc_auc'), n_jobs = -1)"
   ]
  },
  {
   "cell_type": "code",
   "execution_count": 25,
   "metadata": {
    "ExecuteTime": {
     "end_time": "2020-06-12T19:06:00.350448Z",
     "start_time": "2020-06-12T19:05:59.211422Z"
    }
   },
   "outputs": [
    {
     "data": {
      "text/plain": [
       "0.9207330305166698"
      ]
     },
     "execution_count": 25,
     "metadata": {},
     "output_type": "execute_result"
    }
   ],
   "source": [
    "cross_val_score(rfc, X, y, cv=5, scoring=('roc_auc'), n_jobs = -1).mean()"
   ]
  },
  {
   "cell_type": "code",
   "execution_count": 26,
   "metadata": {
    "ExecuteTime": {
     "end_time": "2020-06-12T19:06:00.370396Z",
     "start_time": "2020-06-12T19:06:00.351446Z"
    }
   },
   "outputs": [
    {
     "data": {
      "text/html": [
       "<div>\n",
       "<style scoped>\n",
       "    .dataframe tbody tr th:only-of-type {\n",
       "        vertical-align: middle;\n",
       "    }\n",
       "\n",
       "    .dataframe tbody tr th {\n",
       "        vertical-align: top;\n",
       "    }\n",
       "\n",
       "    .dataframe thead th {\n",
       "        text-align: right;\n",
       "    }\n",
       "</style>\n",
       "<table border=\"1\" class=\"dataframe\">\n",
       "  <thead>\n",
       "    <tr style=\"text-align: right;\">\n",
       "      <th></th>\n",
       "      <th>tenure</th>\n",
       "      <th>MonthlyCharges</th>\n",
       "      <th>TotalCharges</th>\n",
       "      <th>gender_le</th>\n",
       "      <th>SeniorCitizen_le</th>\n",
       "      <th>Partner_le</th>\n",
       "      <th>Dependents_le</th>\n",
       "      <th>PhoneService_le</th>\n",
       "      <th>OnlineSecurity_le</th>\n",
       "      <th>OnlineBackup_le</th>\n",
       "      <th>...</th>\n",
       "      <th>PaymentMethod_Bank transfer (automatic)</th>\n",
       "      <th>PaymentMethod_Credit card (automatic)</th>\n",
       "      <th>PaymentMethod_Electronic check</th>\n",
       "      <th>PaymentMethod_Mailed check</th>\n",
       "      <th>tenure_group_0-12</th>\n",
       "      <th>tenure_group_12-24</th>\n",
       "      <th>tenure_group_24-36</th>\n",
       "      <th>tenure_group_36-48</th>\n",
       "      <th>tenure_group_48-60</th>\n",
       "      <th>tenure_group_60+</th>\n",
       "    </tr>\n",
       "  </thead>\n",
       "  <tbody>\n",
       "    <tr>\n",
       "      <th>0</th>\n",
       "      <td>34</td>\n",
       "      <td>56.95</td>\n",
       "      <td>1889.50</td>\n",
       "      <td>1</td>\n",
       "      <td>0</td>\n",
       "      <td>0</td>\n",
       "      <td>0</td>\n",
       "      <td>1</td>\n",
       "      <td>1</td>\n",
       "      <td>0</td>\n",
       "      <td>...</td>\n",
       "      <td>0</td>\n",
       "      <td>0</td>\n",
       "      <td>0</td>\n",
       "      <td>1</td>\n",
       "      <td>0</td>\n",
       "      <td>0</td>\n",
       "      <td>1</td>\n",
       "      <td>0</td>\n",
       "      <td>0</td>\n",
       "      <td>0</td>\n",
       "    </tr>\n",
       "    <tr>\n",
       "      <th>1</th>\n",
       "      <td>2</td>\n",
       "      <td>53.85</td>\n",
       "      <td>108.15</td>\n",
       "      <td>1</td>\n",
       "      <td>0</td>\n",
       "      <td>0</td>\n",
       "      <td>0</td>\n",
       "      <td>1</td>\n",
       "      <td>1</td>\n",
       "      <td>1</td>\n",
       "      <td>...</td>\n",
       "      <td>0</td>\n",
       "      <td>0</td>\n",
       "      <td>0</td>\n",
       "      <td>1</td>\n",
       "      <td>1</td>\n",
       "      <td>0</td>\n",
       "      <td>0</td>\n",
       "      <td>0</td>\n",
       "      <td>0</td>\n",
       "      <td>0</td>\n",
       "    </tr>\n",
       "    <tr>\n",
       "      <th>2</th>\n",
       "      <td>45</td>\n",
       "      <td>42.30</td>\n",
       "      <td>1840.75</td>\n",
       "      <td>1</td>\n",
       "      <td>0</td>\n",
       "      <td>0</td>\n",
       "      <td>0</td>\n",
       "      <td>0</td>\n",
       "      <td>1</td>\n",
       "      <td>0</td>\n",
       "      <td>...</td>\n",
       "      <td>1</td>\n",
       "      <td>0</td>\n",
       "      <td>0</td>\n",
       "      <td>0</td>\n",
       "      <td>0</td>\n",
       "      <td>0</td>\n",
       "      <td>0</td>\n",
       "      <td>1</td>\n",
       "      <td>0</td>\n",
       "      <td>0</td>\n",
       "    </tr>\n",
       "    <tr>\n",
       "      <th>3</th>\n",
       "      <td>2</td>\n",
       "      <td>70.70</td>\n",
       "      <td>151.65</td>\n",
       "      <td>0</td>\n",
       "      <td>0</td>\n",
       "      <td>0</td>\n",
       "      <td>0</td>\n",
       "      <td>1</td>\n",
       "      <td>0</td>\n",
       "      <td>0</td>\n",
       "      <td>...</td>\n",
       "      <td>0</td>\n",
       "      <td>0</td>\n",
       "      <td>1</td>\n",
       "      <td>0</td>\n",
       "      <td>1</td>\n",
       "      <td>0</td>\n",
       "      <td>0</td>\n",
       "      <td>0</td>\n",
       "      <td>0</td>\n",
       "      <td>0</td>\n",
       "    </tr>\n",
       "    <tr>\n",
       "      <th>4</th>\n",
       "      <td>8</td>\n",
       "      <td>99.65</td>\n",
       "      <td>820.50</td>\n",
       "      <td>0</td>\n",
       "      <td>0</td>\n",
       "      <td>0</td>\n",
       "      <td>0</td>\n",
       "      <td>1</td>\n",
       "      <td>0</td>\n",
       "      <td>0</td>\n",
       "      <td>...</td>\n",
       "      <td>0</td>\n",
       "      <td>0</td>\n",
       "      <td>1</td>\n",
       "      <td>0</td>\n",
       "      <td>1</td>\n",
       "      <td>0</td>\n",
       "      <td>0</td>\n",
       "      <td>0</td>\n",
       "      <td>0</td>\n",
       "      <td>0</td>\n",
       "    </tr>\n",
       "    <tr>\n",
       "      <th>...</th>\n",
       "      <td>...</td>\n",
       "      <td>...</td>\n",
       "      <td>...</td>\n",
       "      <td>...</td>\n",
       "      <td>...</td>\n",
       "      <td>...</td>\n",
       "      <td>...</td>\n",
       "      <td>...</td>\n",
       "      <td>...</td>\n",
       "      <td>...</td>\n",
       "      <td>...</td>\n",
       "      <td>...</td>\n",
       "      <td>...</td>\n",
       "      <td>...</td>\n",
       "      <td>...</td>\n",
       "      <td>...</td>\n",
       "      <td>...</td>\n",
       "      <td>...</td>\n",
       "      <td>...</td>\n",
       "      <td>...</td>\n",
       "      <td>...</td>\n",
       "    </tr>\n",
       "    <tr>\n",
       "      <th>6038</th>\n",
       "      <td>72</td>\n",
       "      <td>21.15</td>\n",
       "      <td>1419.40</td>\n",
       "      <td>0</td>\n",
       "      <td>0</td>\n",
       "      <td>0</td>\n",
       "      <td>0</td>\n",
       "      <td>1</td>\n",
       "      <td>0</td>\n",
       "      <td>0</td>\n",
       "      <td>...</td>\n",
       "      <td>1</td>\n",
       "      <td>0</td>\n",
       "      <td>0</td>\n",
       "      <td>0</td>\n",
       "      <td>0</td>\n",
       "      <td>0</td>\n",
       "      <td>0</td>\n",
       "      <td>0</td>\n",
       "      <td>0</td>\n",
       "      <td>1</td>\n",
       "    </tr>\n",
       "    <tr>\n",
       "      <th>6039</th>\n",
       "      <td>24</td>\n",
       "      <td>84.80</td>\n",
       "      <td>1990.50</td>\n",
       "      <td>1</td>\n",
       "      <td>0</td>\n",
       "      <td>1</td>\n",
       "      <td>1</td>\n",
       "      <td>1</td>\n",
       "      <td>1</td>\n",
       "      <td>0</td>\n",
       "      <td>...</td>\n",
       "      <td>0</td>\n",
       "      <td>0</td>\n",
       "      <td>0</td>\n",
       "      <td>1</td>\n",
       "      <td>0</td>\n",
       "      <td>0</td>\n",
       "      <td>1</td>\n",
       "      <td>0</td>\n",
       "      <td>0</td>\n",
       "      <td>0</td>\n",
       "    </tr>\n",
       "    <tr>\n",
       "      <th>6040</th>\n",
       "      <td>72</td>\n",
       "      <td>103.20</td>\n",
       "      <td>7362.90</td>\n",
       "      <td>0</td>\n",
       "      <td>0</td>\n",
       "      <td>1</td>\n",
       "      <td>1</td>\n",
       "      <td>1</td>\n",
       "      <td>0</td>\n",
       "      <td>1</td>\n",
       "      <td>...</td>\n",
       "      <td>0</td>\n",
       "      <td>1</td>\n",
       "      <td>0</td>\n",
       "      <td>0</td>\n",
       "      <td>0</td>\n",
       "      <td>0</td>\n",
       "      <td>0</td>\n",
       "      <td>0</td>\n",
       "      <td>0</td>\n",
       "      <td>1</td>\n",
       "    </tr>\n",
       "    <tr>\n",
       "      <th>6041</th>\n",
       "      <td>4</td>\n",
       "      <td>74.40</td>\n",
       "      <td>306.60</td>\n",
       "      <td>1</td>\n",
       "      <td>1</td>\n",
       "      <td>1</td>\n",
       "      <td>0</td>\n",
       "      <td>1</td>\n",
       "      <td>0</td>\n",
       "      <td>0</td>\n",
       "      <td>...</td>\n",
       "      <td>0</td>\n",
       "      <td>0</td>\n",
       "      <td>0</td>\n",
       "      <td>1</td>\n",
       "      <td>1</td>\n",
       "      <td>0</td>\n",
       "      <td>0</td>\n",
       "      <td>0</td>\n",
       "      <td>0</td>\n",
       "      <td>0</td>\n",
       "    </tr>\n",
       "    <tr>\n",
       "      <th>6042</th>\n",
       "      <td>66</td>\n",
       "      <td>105.65</td>\n",
       "      <td>6844.50</td>\n",
       "      <td>1</td>\n",
       "      <td>0</td>\n",
       "      <td>0</td>\n",
       "      <td>0</td>\n",
       "      <td>1</td>\n",
       "      <td>1</td>\n",
       "      <td>0</td>\n",
       "      <td>...</td>\n",
       "      <td>1</td>\n",
       "      <td>0</td>\n",
       "      <td>0</td>\n",
       "      <td>0</td>\n",
       "      <td>0</td>\n",
       "      <td>0</td>\n",
       "      <td>0</td>\n",
       "      <td>0</td>\n",
       "      <td>0</td>\n",
       "      <td>1</td>\n",
       "    </tr>\n",
       "  </tbody>\n",
       "</table>\n",
       "<p>6043 rows × 34 columns</p>\n",
       "</div>"
      ],
      "text/plain": [
       "      tenure  MonthlyCharges  TotalCharges  gender_le  SeniorCitizen_le  \\\n",
       "0         34           56.95       1889.50          1                 0   \n",
       "1          2           53.85        108.15          1                 0   \n",
       "2         45           42.30       1840.75          1                 0   \n",
       "3          2           70.70        151.65          0                 0   \n",
       "4          8           99.65        820.50          0                 0   \n",
       "...      ...             ...           ...        ...               ...   \n",
       "6038      72           21.15       1419.40          0                 0   \n",
       "6039      24           84.80       1990.50          1                 0   \n",
       "6040      72          103.20       7362.90          0                 0   \n",
       "6041       4           74.40        306.60          1                 1   \n",
       "6042      66          105.65       6844.50          1                 0   \n",
       "\n",
       "      Partner_le  Dependents_le  PhoneService_le  OnlineSecurity_le  \\\n",
       "0              0              0                1                  1   \n",
       "1              0              0                1                  1   \n",
       "2              0              0                0                  1   \n",
       "3              0              0                1                  0   \n",
       "4              0              0                1                  0   \n",
       "...          ...            ...              ...                ...   \n",
       "6038           0              0                1                  0   \n",
       "6039           1              1                1                  1   \n",
       "6040           1              1                1                  0   \n",
       "6041           1              0                1                  0   \n",
       "6042           0              0                1                  1   \n",
       "\n",
       "      OnlineBackup_le  ...  PaymentMethod_Bank transfer (automatic)  \\\n",
       "0                   0  ...                                        0   \n",
       "1                   1  ...                                        0   \n",
       "2                   0  ...                                        1   \n",
       "3                   0  ...                                        0   \n",
       "4                   0  ...                                        0   \n",
       "...               ...  ...                                      ...   \n",
       "6038                0  ...                                        1   \n",
       "6039                0  ...                                        0   \n",
       "6040                1  ...                                        0   \n",
       "6041                0  ...                                        0   \n",
       "6042                0  ...                                        1   \n",
       "\n",
       "      PaymentMethod_Credit card (automatic)  PaymentMethod_Electronic check  \\\n",
       "0                                         0                               0   \n",
       "1                                         0                               0   \n",
       "2                                         0                               0   \n",
       "3                                         0                               1   \n",
       "4                                         0                               1   \n",
       "...                                     ...                             ...   \n",
       "6038                                      0                               0   \n",
       "6039                                      0                               0   \n",
       "6040                                      1                               0   \n",
       "6041                                      0                               0   \n",
       "6042                                      0                               0   \n",
       "\n",
       "      PaymentMethod_Mailed check  tenure_group_0-12  tenure_group_12-24  \\\n",
       "0                              1                  0                   0   \n",
       "1                              1                  1                   0   \n",
       "2                              0                  0                   0   \n",
       "3                              0                  1                   0   \n",
       "4                              0                  1                   0   \n",
       "...                          ...                ...                 ...   \n",
       "6038                           0                  0                   0   \n",
       "6039                           1                  0                   0   \n",
       "6040                           0                  0                   0   \n",
       "6041                           1                  1                   0   \n",
       "6042                           0                  0                   0   \n",
       "\n",
       "      tenure_group_24-36  tenure_group_36-48  tenure_group_48-60  \\\n",
       "0                      1                   0                   0   \n",
       "1                      0                   0                   0   \n",
       "2                      0                   1                   0   \n",
       "3                      0                   0                   0   \n",
       "4                      0                   0                   0   \n",
       "...                  ...                 ...                 ...   \n",
       "6038                   0                   0                   0   \n",
       "6039                   1                   0                   0   \n",
       "6040                   0                   0                   0   \n",
       "6041                   0                   0                   0   \n",
       "6042                   0                   0                   0   \n",
       "\n",
       "      tenure_group_60+  \n",
       "0                    0  \n",
       "1                    0  \n",
       "2                    0  \n",
       "3                    0  \n",
       "4                    0  \n",
       "...                ...  \n",
       "6038                 1  \n",
       "6039                 0  \n",
       "6040                 1  \n",
       "6041                 0  \n",
       "6042                 1  \n",
       "\n",
       "[6043 rows x 34 columns]"
      ]
     },
     "execution_count": 26,
     "metadata": {},
     "output_type": "execute_result"
    }
   ],
   "source": [
    "X"
   ]
  },
  {
   "cell_type": "code",
   "execution_count": 27,
   "metadata": {
    "ExecuteTime": {
     "end_time": "2020-06-12T19:06:00.378373Z",
     "start_time": "2020-06-12T19:06:00.371392Z"
    }
   },
   "outputs": [],
   "source": [
    "from factor_analyzer import FactorAnalyzer"
   ]
  },
  {
   "cell_type": "code",
   "execution_count": 28,
   "metadata": {
    "ExecuteTime": {
     "end_time": "2020-06-12T19:06:00.414277Z",
     "start_time": "2020-06-12T19:06:00.379370Z"
    }
   },
   "outputs": [
    {
     "name": "stderr",
     "output_type": "stream",
     "text": [
      "C:\\Users\\roman\\anaconda3\\envs\\ktf\\lib\\site-packages\\factor_analyzer\\utils.py:248: UserWarning: The inverse of the variance-covariance matrix was calculated using the Moore-Penrose generalized matrix inversion, due to its determinant being at or very close to zero.\n",
      "  warnings.warn('The inverse of the variance-covariance matrix '\n"
     ]
    },
    {
     "data": {
      "text/plain": [
       "0.2770658781525998"
      ]
     },
     "execution_count": 28,
     "metadata": {},
     "output_type": "execute_result"
    }
   ],
   "source": [
    "from factor_analyzer.factor_analyzer import calculate_kmo\n",
    "kmo_all,kmo_model=calculate_kmo(X)\n",
    "kmo_model"
   ]
  },
  {
   "cell_type": "code",
   "execution_count": 29,
   "metadata": {
    "ExecuteTime": {
     "end_time": "2020-06-12T19:06:00.421258Z",
     "start_time": "2020-06-12T19:06:00.415274Z"
    }
   },
   "outputs": [],
   "source": [
    "from sklearn.model_selection import train_test_split\n",
    "X_train, _, _, _ = train_test_split(X, y, random_state=42,\n",
    "                                                    # доля объёма тестового множества\n",
    "                                                    test_size=0.2)"
   ]
  },
  {
   "cell_type": "code",
   "execution_count": 30,
   "metadata": {
    "ExecuteTime": {
     "end_time": "2020-06-12T19:06:00.655659Z",
     "start_time": "2020-06-12T19:06:00.422256Z"
    }
   },
   "outputs": [
    {
     "name": "stdout",
     "output_type": "stream",
     "text": [
      "[ 6.81993587e+00  3.78024724e+00  2.89972015e+00  1.68105273e+00\n",
      "  1.57126518e+00  1.31049629e+00  1.26106810e+00  1.22942650e+00\n",
      "  1.14948002e+00  1.14536079e+00  1.12618011e+00  1.07793779e+00\n",
      "  9.85900254e-01  9.41332053e-01  9.13842003e-01  9.00856824e-01\n",
      "  7.95323475e-01  7.60964426e-01  6.29832207e-01  5.93552985e-01\n",
      "  5.74426967e-01  5.12061335e-01  4.47764806e-01  4.37075157e-01\n",
      "  3.73703578e-01  6.95997980e-02  1.08171808e-02  7.76174906e-04\n",
      "  3.44251027e-15  6.29715141e-16  1.83383177e-17 -2.78628244e-16\n",
      " -2.99054450e-16 -8.78636805e-16]\n"
     ]
    }
   ],
   "source": [
    "# Create factor analysis object and perform factor analysis\n",
    "fa = FactorAnalyzer(n_factors=25, rotation=None)\n",
    "fa.fit(X_train)\n",
    "# Check Eigenvalues\n",
    "ev, v = fa.get_eigenvalues()\n",
    "print(ev)"
   ]
  },
  {
   "cell_type": "code",
   "execution_count": 31,
   "metadata": {
    "ExecuteTime": {
     "end_time": "2020-06-12T19:06:00.783318Z",
     "start_time": "2020-06-12T19:06:00.656657Z"
    }
   },
   "outputs": [
    {
     "data": {
      "image/png": "[encoded data removed]",
      "text/plain": [
       "<Figure size 432x288 with 1 Axes>"
      ]
     },
     "metadata": {
      "needs_background": "light"
     },
     "output_type": "display_data"
    }
   ],
   "source": [
    "# Create scree plot using matplotlib\n",
    "plt.scatter(range(1,X_train.shape[1]+1),ev)\n",
    "plt.plot(range(1,X_train.shape[1]+1),ev)\n",
    "plt.title('Scree Plot')\n",
    "plt.xlabel('Factors')\n",
    "plt.ylabel('Eigenvalue')\n",
    "plt.grid()\n",
    "plt.show()"
   ]
  },
  {
   "cell_type": "code",
   "execution_count": 32,
   "metadata": {
    "ExecuteTime": {
     "end_time": "2020-06-12T19:06:00.991761Z",
     "start_time": "2020-06-12T19:06:00.784316Z"
    }
   },
   "outputs": [
    {
     "data": {
      "text/plain": [
       "FactorAnalyzer(bounds=(0.005, 1), impute='median', is_corr_matrix=False,\n",
       "               method='minres', n_factors=10, rotation='varimax',\n",
       "               rotation_kwargs={}, use_smc=True)"
      ]
     },
     "execution_count": 32,
     "metadata": {},
     "output_type": "execute_result"
    }
   ],
   "source": [
    "fa = FactorAnalyzer(n_factors=10, rotation='varimax')\n",
    "fa.fit(X_train)"
   ]
  },
  {
   "cell_type": "code",
   "execution_count": 33,
   "metadata": {
    "ExecuteTime": {
     "end_time": "2020-06-12T19:06:00.998743Z",
     "start_time": "2020-06-12T19:06:00.992759Z"
    }
   },
   "outputs": [],
   "source": [
    "raz_x_fa = fa.transform(X)"
   ]
  },
  {
   "cell_type": "code",
   "execution_count": 34,
   "metadata": {
    "ExecuteTime": {
     "end_time": "2020-06-12T19:06:01.007228Z",
     "start_time": "2020-06-12T19:06:00.999262Z"
    }
   },
   "outputs": [],
   "source": [
    "X_train, X_test, y_train, y_test = train_test_split(raz_x_fa, y, random_state=42,\n",
    "                                                    # доля объёма тестового множества\n",
    "                                                    test_size=0.2)"
   ]
  },
  {
   "cell_type": "code",
   "execution_count": 35,
   "metadata": {
    "ExecuteTime": {
     "end_time": "2020-06-12T19:06:03.285741Z",
     "start_time": "2020-06-12T19:06:01.008226Z"
    }
   },
   "outputs": [
    {
     "name": "stderr",
     "output_type": "stream",
     "text": [
      "Using TensorFlow backend.\n"
     ]
    }
   ],
   "source": [
    "# Импорт нужного из keras\n",
    "from keras.models import Sequential\n",
    "from keras.layers import Dense\n",
    "from keras.utils import np_utils\n",
    "import keras\n",
    "import tensorflow as tf"
   ]
  },
  {
   "cell_type": "code",
   "execution_count": 36,
   "metadata": {
    "ExecuteTime": {
     "end_time": "2020-06-12T19:06:03.290719Z",
     "start_time": "2020-06-12T19:06:03.286702Z"
    }
   },
   "outputs": [],
   "source": [
    "y_train_bin = np_utils.to_categorical(y_train)\n",
    "\n",
    "y_test_bin = np_utils.to_categorical(y_test)"
   ]
  },
  {
   "cell_type": "code",
   "execution_count": 37,
   "metadata": {
    "ExecuteTime": {
     "end_time": "2020-06-12T19:06:49.919822Z",
     "start_time": "2020-06-12T19:06:03.291689Z"
    }
   },
   "outputs": [
    {
     "name": "stdout",
     "output_type": "stream",
     "text": [
      "Epoch 1/50\n",
      "4834/4834 [==============================] - 1s 261us/step - loss: 0.6583 - auc: 0.6028\n",
      "Epoch 2/50\n",
      "4834/4834 [==============================] - 1s 177us/step - loss: 0.5061 - auc: 0.7325\n",
      "Epoch 3/50\n",
      "4834/4834 [==============================] - 1s 177us/step - loss: 0.4037 - auc: 0.8038\n",
      "Epoch 4/50\n",
      "4834/4834 [==============================] - 1s 177us/step - loss: 0.3560 - auc: 0.8436\n",
      "Epoch 5/50\n",
      "4834/4834 [==============================] - 1s 177us/step - loss: 0.3389 - auc: 0.8662\n",
      "Epoch 6/50\n",
      "4834/4834 [==============================] - 1s 177us/step - loss: 0.3301 - auc: 0.8801\n",
      "Epoch 7/50\n",
      "4834/4834 [==============================] - 1s 180us/step - loss: 0.3246 - auc: 0.8898\n",
      "Epoch 8/50\n",
      "4834/4834 [==============================] - 1s 177us/step - loss: 0.3195 - auc: 0.8974\n",
      "Epoch 9/50\n",
      "4834/4834 [==============================] - 1s 178us/step - loss: 0.3159 - auc: 0.9031\n",
      "Epoch 10/50\n",
      "4834/4834 [==============================] - 1s 183us/step - loss: 0.3129 - auc: 0.9069\n",
      "Epoch 11/50\n",
      "4834/4834 [==============================] - 1s 192us/step - loss: 0.3109 - auc: 0.9107\n",
      "Epoch 12/50\n",
      "4834/4834 [==============================] - 1s 193us/step - loss: 0.3083 - auc: 0.9135\n",
      "Epoch 13/50\n",
      "4834/4834 [==============================] - 1s 195us/step - loss: 0.3054 - auc: 0.9160\n",
      "Epoch 14/50\n",
      "4834/4834 [==============================] - 1s 180us/step - loss: 0.3041 - auc: 0.9182\n",
      "Epoch 15/50\n",
      "4834/4834 [==============================] - 1s 183us/step - loss: 0.3021 - auc: 0.9201\n",
      "Epoch 16/50\n",
      "4834/4834 [==============================] - 1s 188us/step - loss: 0.3004 - auc: 0.9219\n",
      "Epoch 17/50\n",
      "4834/4834 [==============================] - 1s 195us/step - loss: 0.2981 - auc: 0.9234\n",
      "Epoch 18/50\n",
      "4834/4834 [==============================] - 1s 209us/step - loss: 0.2968 - auc: 0.9247\n",
      "Epoch 19/50\n",
      "4834/4834 [==============================] - 1s 192us/step - loss: 0.2946 - auc: 0.9260\n",
      "Epoch 20/50\n",
      "4834/4834 [==============================] - 1s 181us/step - loss: 0.2942 - auc: 0.9271\n",
      "Epoch 21/50\n",
      "4834/4834 [==============================] - 1s 184us/step - loss: 0.2922 - auc: 0.9281\n",
      "Epoch 22/50\n",
      "4834/4834 [==============================] - 1s 195us/step - loss: 0.2921 - auc: 0.9290\n",
      "Epoch 23/50\n",
      "4834/4834 [==============================] - 1s 199us/step - loss: 0.2913 - auc: 0.9299\n",
      "Epoch 24/50\n",
      "4834/4834 [==============================] - 1s 192us/step - loss: 0.2897 - auc: 0.9308\n",
      "Epoch 25/50\n",
      "4834/4834 [==============================] - 1s 185us/step - loss: 0.2893 - auc: 0.9316\n",
      "Epoch 26/50\n",
      "4834/4834 [==============================] - 1s 182us/step - loss: 0.2889 - auc: 0.9322\n",
      "Epoch 27/50\n",
      "4834/4834 [==============================] - 1s 183us/step - loss: 0.2881 - auc: 0.9329\n",
      "Epoch 28/50\n",
      "4834/4834 [==============================] - 1s 185us/step - loss: 0.2871 - auc: 0.9334\n",
      "Epoch 29/50\n",
      "4834/4834 [==============================] - 1s 188us/step - loss: 0.2869 - auc: 0.9341\n",
      "Epoch 30/50\n",
      "4834/4834 [==============================] - 1s 219us/step - loss: 0.2860 - auc: 0.9346\n",
      "Epoch 31/50\n",
      "4834/4834 [==============================] - 1s 195us/step - loss: 0.2858 - auc: 0.9352\n",
      "Epoch 32/50\n",
      "4834/4834 [==============================] - 1s 192us/step - loss: 0.2850 - auc: 0.9357\n",
      "Epoch 33/50\n",
      "4834/4834 [==============================] - 1s 186us/step - loss: 0.2849 - auc: 0.9361\n",
      "Epoch 34/50\n",
      "4834/4834 [==============================] - 1s 199us/step - loss: 0.2847 - auc: 0.9365\n",
      "Epoch 35/50\n",
      "4834/4834 [==============================] - 1s 199us/step - loss: 0.2843 - auc: 0.9370\n",
      "Epoch 36/50\n",
      "4834/4834 [==============================] - 1s 181us/step - loss: 0.2839 - auc: 0.9373\n",
      "Epoch 37/50\n",
      "4834/4834 [==============================] - 1s 184us/step - loss: 0.2838 - auc: 0.9377\n",
      "Epoch 38/50\n",
      "4834/4834 [==============================] - 1s 188us/step - loss: 0.2831 - auc: 0.9381\n",
      "Epoch 39/50\n",
      "4834/4834 [==============================] - 1s 183us/step - loss: 0.2835 - auc: 0.9384\n",
      "Epoch 40/50\n",
      "4834/4834 [==============================] - 1s 184us/step - loss: 0.2831 - auc: 0.9387\n",
      "Epoch 41/50\n",
      "4834/4834 [==============================] - 1s 181us/step - loss: 0.2833 - auc: 0.9390\n",
      "Epoch 42/50\n",
      "4834/4834 [==============================] - 1s 184us/step - loss: 0.2827 - auc: 0.9393\n",
      "Epoch 43/50\n",
      "4834/4834 [==============================] - 1s 191us/step - loss: 0.2828 - auc: 0.9396\n",
      "Epoch 44/50\n",
      "4834/4834 [==============================] - 1s 180us/step - loss: 0.2824 - auc: 0.9399\n",
      "Epoch 45/50\n",
      "4834/4834 [==============================] - 1s 179us/step - loss: 0.2816 - auc: 0.9402\n",
      "Epoch 46/50\n",
      "4834/4834 [==============================] - 1s 178us/step - loss: 0.2823 - auc: 0.9404\n",
      "Epoch 47/50\n",
      "4834/4834 [==============================] - 1s 177us/step - loss: 0.2825 - auc: 0.9406\n",
      "Epoch 48/50\n",
      "4834/4834 [==============================] - 1s 177us/step - loss: 0.2821 - auc: 0.9409\n",
      "Epoch 49/50\n",
      "4834/4834 [==============================] - 1s 176us/step - loss: 0.2826 - auc: 0.9411\n",
      "Epoch 50/50\n",
      "4834/4834 [==============================] - 1s 176us/step - loss: 0.2823 - auc: 0.9413\n"
     ]
    },
    {
     "data": {
      "text/plain": [
       "<keras.callbacks.callbacks.History at 0x26f35296948>"
      ]
     },
     "execution_count": 37,
     "metadata": {},
     "output_type": "execute_result"
    }
   ],
   "source": [
    "# Creating a model\n",
    "model = Sequential()\n",
    "model.add(Dense(5, input_dim=10, activation='relu'))\n",
    "# model.add(Dense(5, activation='relu'))\n",
    "model.add(Dense(2, activation='softmax'))\n",
    "\n",
    "\n",
    "# Compiling model\n",
    "model.compile(loss='categorical_crossentropy', optimizer='adam', metrics=[tf.keras.metrics.AUC()])\n",
    "\n",
    "\n",
    "# Training a model\n",
    "model.fit(X_train, y_train_bin, epochs=50, batch_size=10)"
   ]
  },
  {
   "cell_type": "code",
   "execution_count": 38,
   "metadata": {
    "ExecuteTime": {
     "end_time": "2020-06-12T19:06:50.122955Z",
     "start_time": "2020-06-12T19:06:49.920819Z"
    }
   },
   "outputs": [
    {
     "name": "stdout",
     "output_type": "stream",
     "text": [
      "1209/1209 [==============================] - 0s 75us/step\n",
      "\n",
      "auc: 94.14%\n"
     ]
    }
   ],
   "source": [
    "# evaluate the model\n",
    "scores = model.evaluate(X_test, y_test_bin)\n",
    "print(\"\\nauc: %.2f%%\" % (scores[1]*100))"
   ]
  },
  {
   "cell_type": "code",
   "execution_count": 39,
   "metadata": {
    "ExecuteTime": {
     "end_time": "2020-06-12T19:06:50.152904Z",
     "start_time": "2020-06-12T19:06:50.123952Z"
    }
   },
   "outputs": [],
   "source": [
    "from sklearn.metrics import confusion_matrix, accuracy_score\n",
    "from sklearn.model_selection import KFold, RepeatedKFold\n",
    "from tensorflow.keras.wrappers.scikit_learn import KerasRegressor, KerasClassifier"
   ]
  },
  {
   "cell_type": "code",
   "execution_count": 40,
   "metadata": {
    "ExecuteTime": {
     "end_time": "2020-06-12T19:06:50.196758Z",
     "start_time": "2020-06-12T19:06:50.153872Z"
    }
   },
   "outputs": [
    {
     "data": {
      "text/plain": [
       "array([[799,  95],\n",
       "       [ 34, 281]], dtype=int64)"
      ]
     },
     "execution_count": 40,
     "metadata": {},
     "output_type": "execute_result"
    }
   ],
   "source": [
    "confusion_matrix(model.predict_classes(X_test), y_test)"
   ]
  },
  {
   "cell_type": "markdown",
   "metadata": {},
   "source": [
    "Thus in binary classification, the count of true negatives is C00, \n",
    "false negatives is C10, true positives is C11 and false positives is C01."
   ]
  },
  {
   "cell_type": "code",
   "execution_count": 41,
   "metadata": {
    "ExecuteTime": {
     "end_time": "2020-06-12T19:06:50.201744Z",
     "start_time": "2020-06-12T19:06:50.197755Z"
    }
   },
   "outputs": [
    {
     "data": {
      "text/plain": [
       "62.85776104583815"
      ]
     },
     "execution_count": 41,
     "metadata": {},
     "output_type": "execute_result"
    }
   ],
   "source": [
    "p = X.MonthlyCharges.mean()\n",
    "p"
   ]
  },
  {
   "cell_type": "code",
   "execution_count": 42,
   "metadata": {
    "ExecuteTime": {
     "end_time": "2020-06-12T19:06:50.210721Z",
     "start_time": "2020-06-12T19:06:50.202742Z"
    }
   },
   "outputs": [],
   "source": [
    "y_cross = np_utils.to_categorical(y)"
   ]
  },
  {
   "cell_type": "code",
   "execution_count": 43,
   "metadata": {
    "ExecuteTime": {
     "end_time": "2020-06-12T19:06:50.305467Z",
     "start_time": "2020-06-12T19:06:50.211718Z"
    }
   },
   "outputs": [
    {
     "data": {
      "text/plain": [
       "array([[3990,  494],\n",
       "       [ 184, 1375]], dtype=int64)"
      ]
     },
     "execution_count": 43,
     "metadata": {},
     "output_type": "execute_result"
    }
   ],
   "source": [
    "confusion_matrix(model.predict_classes(raz_x_fa), y)"
   ]
  },
  {
   "cell_type": "code",
   "execution_count": 44,
   "metadata": {
    "ExecuteTime": {
     "end_time": "2020-06-12T19:06:50.552806Z",
     "start_time": "2020-06-12T19:06:50.306465Z"
    }
   },
   "outputs": [
    {
     "name": "stdout",
     "output_type": "stream",
     "text": [
      "6043/6043 [==============================] - 0s 40us/step\n",
      "\n",
      "auc: 94.16%\n"
     ]
    }
   ],
   "source": [
    "# evaluate the model\n",
    "scores = model.evaluate(raz_x_fa, y_cross)\n",
    "print(\"\\nauc: %.2f%%\" % (scores[1]*100))"
   ]
  },
  {
   "cell_type": "code",
   "execution_count": 45,
   "metadata": {
    "ExecuteTime": {
     "end_time": "2020-06-12T19:06:50.556795Z",
     "start_time": "2020-06-12T19:06:50.553804Z"
    }
   },
   "outputs": [],
   "source": [
    "## TP = 1375, FP = 494, TN = 3990, FN = 184"
   ]
  },
  {
   "cell_type": "code",
   "execution_count": 46,
   "metadata": {
    "ExecuteTime": {
     "end_time": "2020-06-12T19:06:50.564775Z",
     "start_time": "2020-06-12T19:06:50.557792Z"
    }
   },
   "outputs": [],
   "source": [
    "## b 1352 + 152 ) * p\n",
    "## c (1352 * 0.9 + 517) * p\n",
    "## d 1352 + 517 ) * 0.3 * p\n",
    "## e 152 * p + 1352 * (1 - 0.9) * p\n",
    "## f 3 - 4\n",
    "## g f / 6043"
   ]
  },
  {
   "cell_type": "code",
   "execution_count": 58,
   "metadata": {
    "ExecuteTime": {
     "end_time": "2020-06-12T19:22:13.171748Z",
     "start_time": "2020-06-12T19:22:13.160777Z"
    }
   },
   "outputs": [
    {
     "name": "stdout",
     "output_type": "stream",
     "text": [
      "97944.96\n"
     ]
    }
   ],
   "source": [
    "print(round((184 + 1375 * 1 - 0.8 ) * p, 2))"
   ]
  },
  {
   "cell_type": "code",
   "execution_count": 47,
   "metadata": {
    "ExecuteTime": {
     "end_time": "2020-06-12T19:06:50.652539Z",
     "start_time": "2020-06-12T19:06:50.565772Z"
    }
   },
   "outputs": [],
   "source": [
    "Threshold = pd.DataFrame(model.predict(raz_x_fa), columns = ['zero','pred']) # слева ноль, справа единица"
   ]
  },
  {
   "cell_type": "code",
   "execution_count": 48,
   "metadata": {
    "ExecuteTime": {
     "end_time": "2020-06-12T19:06:50.657555Z",
     "start_time": "2020-06-12T19:06:50.653537Z"
    }
   },
   "outputs": [],
   "source": [
    "def get_x(x, i):\n",
    "    if x > i:\n",
    "        return 1\n",
    "    else:\n",
    "        return 0"
   ]
  },
  {
   "cell_type": "code",
   "execution_count": 49,
   "metadata": {
    "ExecuteTime": {
     "end_time": "2020-06-12T19:06:50.794192Z",
     "start_time": "2020-06-12T19:06:50.658523Z"
    },
    "scrolled": true
   },
   "outputs": [
    {
     "name": "stdout",
     "output_type": "stream",
     "text": [
      "A:\n",
      "0.1 0.7301009432401125\n",
      "[[2669  126]\n",
      " [1505 1743]]\n",
      "b 204162.00787688233\n",
      "c 106525.04764438192\n",
      "d 35244.34661840145\n",
      "e 105557.03812427602\n",
      "f -34276.33709829555\n",
      "g -5.672072993264199 \n",
      "\n",
      "0.2 0.8361740857190137\n",
      "[[3450  266]\n",
      " [ 724 1603]]\n",
      "b 146270.00995366537\n",
      "c 107405.05629902365\n",
      "d 35244.34661840145\n",
      "e 55585.11809283467\n",
      "f 16575.591587787538\n",
      "g 2.7429408551692105 \n",
      "\n",
      "0.3 0.8662915770312759\n",
      "[[3728  362]\n",
      " [ 446 1507]]\n",
      "b 122761.2073225219\n",
      "c 108008.4908050637\n",
      "d 35244.34661840145\n",
      "e 37507.22601605162\n",
      "f 35256.918170610625\n",
      "g 5.834340256596165 \n",
      "\n",
      "0.4 0.877875227535992\n",
      "[[3882  446]\n",
      " [ 292 1423]]\n",
      "b 107801.06019361243\n",
      "c 108536.49599784875\n",
      "d 35244.34661840145\n",
      "e 27299.12562220751\n",
      "f 45993.0237572398\n",
      "g 7.610958755128214 \n",
      "\n",
      "0.5 0.8878040708257487\n",
      "[[3990  494]\n",
      " [ 184 1375]]\n",
      "b 97995.24947046168\n",
      "c 108838.21325086876\n",
      "d 35244.34661840145\n",
      "e 20208.77017623696\n",
      "f 53385.09645623035\n",
      "g 8.834204278707654 \n",
      "\n",
      "0.6 0.8916101274201556\n",
      "[[4072  553]\n",
      " [ 102 1316]]\n",
      "b 89132.3051629985\n",
      "c 109209.07404103922\n",
      "d 35244.34661840145\n",
      "e 14683.57298030779\n",
      "f 59281.154442329986\n",
      "g 9.809888208229355 \n",
      "\n",
      "0.7 0.887307628661261\n",
      "[[4125  632]\n",
      " [  49 1237]]\n",
      "b 80835.08070494786\n",
      "c 109705.65035330133\n",
      "d 35244.34661840145\n",
      "e 10855.535332616248\n",
      "f 63605.76840228363\n",
      "g 10.525528446513922 \n",
      "\n",
      "0.8 0.8740691709415853\n",
      "[[4154  741]\n",
      " [  20 1128]]\n",
      "b 72160.7096806222\n",
      "c 110390.79994870097\n",
      "d 35244.34661840145\n",
      "e 8347.510666887305\n",
      "f 66798.94266341222\n",
      "g 11.053937227107765 \n",
      "\n",
      "0.9 0.8548734072480556\n",
      "[[4168  871]\n",
      " [   6  998]]\n",
      "b 63109.192090021505\n",
      "c 111207.95084229686\n",
      "d 35244.34661840145\n",
      "e 6650.351118649675\n",
      "f 69313.25310524573\n",
      "g 11.470007133087165 \n",
      "\n"
     ]
    }
   ],
   "source": [
    "print('A:')\n",
    "for i in np.arange(0.1, 1, 0.1):\n",
    "    i = round(i,1)\n",
    "    Threshold['tr'+str(round(i,1))] = Threshold['pred'].apply(lambda x: get_x(x, i))\n",
    "    print(i, accuracy_score(Threshold['tr'+str(i)], y))\n",
    "    print(confusion_matrix(Threshold['tr'+str(i)], y))\n",
    "    cm = confusion_matrix(Threshold['tr'+str(i)], y)\n",
    "    print('b',(cm[1,1]+cm[1,0])*p)\n",
    "    b = (cm[1,1]+cm[1,0])*p\n",
    "    print('c',(cm[1,1]*0.9+cm[0,1])*p)\n",
    "    c = (cm[1,1]*0.9+cm[0,1])*p\n",
    "    print('d',(cm[1,1]+cm[0,1])*0.3*p)\n",
    "    d = (cm[1,1]+cm[0,1])*0.3*p\n",
    "    print('e',cm[1,0]*p+cm[1,1]*(1-0.9)*p)\n",
    "    e = cm[1,0]*p+cm[1,1]*(1-0.9)*p\n",
    "    print('f',c-d-e)\n",
    "    f = c - d - e\n",
    "    print('g',f / 6043, '\\n')"
   ]
  },
  {
   "cell_type": "markdown",
   "metadata": {
    "ExecuteTime": {
     "end_time": "2020-06-12T19:25:44.855328Z",
     "start_time": "2020-06-12T19:25:44.839394Z"
    }
   },
   "source": [
    "Thus in binary classification, the count of true negatives is C00, false negatives is C10, true positives is C11 and false positives is C01."
   ]
  },
  {
   "cell_type": "code",
   "execution_count": 50,
   "metadata": {
    "ExecuteTime": {
     "end_time": "2020-06-12T19:06:50.799150Z",
     "start_time": "2020-06-12T19:06:50.795160Z"
    }
   },
   "outputs": [
    {
     "data": {
      "text/plain": [
       "0.00016548072149594575"
      ]
     },
     "execution_count": 50,
     "metadata": {},
     "output_type": "execute_result"
    }
   ],
   "source": [
    "f / 6043 / f"
   ]
  },
  {
   "cell_type": "code",
   "execution_count": 51,
   "metadata": {
    "ExecuteTime": {
     "end_time": "2020-06-12T19:06:50.931403Z",
     "start_time": "2020-06-12T19:06:50.800147Z"
    }
   },
   "outputs": [
    {
     "name": "stdout",
     "output_type": "stream",
     "text": [
      "B:\n",
      "0.1 0.7301009432401125\n",
      "[[2669  126]\n",
      " [1505 1743]]\n",
      "b 204162.00787688233\n",
      "c 90090.88601894754\n",
      "d 23496.231078934303\n",
      "e 121991.1997497104\n",
      "f -55396.54480969717\n",
      "g -9.167060203491175 \n",
      "\n",
      "0.2 0.8361740857190137\n",
      "[[3450  266]\n",
      " [ 724 1603]]\n",
      "b 146270.00995366537\n",
      "c 92290.90765555187\n",
      "d 23496.231078934303\n",
      "e 70699.26673630647\n",
      "f -1904.5901596889016\n",
      "g -0.3151729537793979 \n",
      "\n",
      "0.3 0.8662915770312759\n",
      "[[3728  362]\n",
      " [ 446 1507]]\n",
      "b 122761.2073225219\n",
      "c 93799.49392065198\n",
      "d 23496.231078934303\n",
      "e 51716.22290046334\n",
      "f 18587.039941254334\n",
      "g 3.0757967799527277 \n",
      "\n",
      "0.4 0.877875227535992\n",
      "[[3882  446]\n",
      " [ 292 1423]]\n",
      "b 107801.06019361243\n",
      "c 95119.50690261458\n",
      "d 23496.231078934303\n",
      "e 40716.11471744167\n",
      "f 30907.161106238607\n",
      "g 5.114539319251796 \n",
      "\n",
      "0.5 0.8878040708257487\n",
      "[[3990  494]\n",
      " [ 184 1375]]\n",
      "b 97995.24947046168\n",
      "c 95873.80003516465\n",
      "d 23496.231078934303\n",
      "e 33173.183391941086\n",
      "f 39204.38556428926\n",
      "g 6.487570008983826 \n",
      "\n",
      "0.6 0.8916101274201556\n",
      "[[4072  553]\n",
      " [ 102 1316]]\n",
      "b 89132.3051629985\n",
      "c 96800.95201059076\n",
      "d 23496.231078934303\n",
      "e 27091.695010756244\n",
      "f 46213.02592090021\n",
      "g 7.6473648719014085 \n",
      "\n",
      "0.7 0.887307628661261\n",
      "[[4125  632]\n",
      " [  49 1237]]\n",
      "b 80835.08070494786\n",
      "c 98042.39279124606\n",
      "d 23496.231078934303\n",
      "e 22518.79289467152\n",
      "f 52027.36881764024\n",
      "g 8.609526529478776 \n",
      "\n",
      "0.8 0.8740691709415853\n",
      "[[4154  741]\n",
      " [  20 1128]]\n",
      "b 72160.7096806222\n",
      "c 99755.26677974514\n",
      "d 23496.231078934303\n",
      "e 18983.043835843124\n",
      "f 57275.99186496771\n",
      "g 9.478072458210775 \n",
      "\n",
      "0.9 0.8548734072480556\n",
      "[[4168  871]\n",
      " [   6  998]]\n",
      "b 63109.192090021505\n",
      "c 101798.14401373488\n",
      "d 23496.231078934303\n",
      "e 16060.157947211648\n",
      "f 62241.75498758893\n",
      "g 10.299810522520094 \n",
      "\n"
     ]
    }
   ],
   "source": [
    "print('B:')\n",
    "for i in np.arange(0.1, 1, 0.1):\n",
    "    i = round(i,1)\n",
    "    Threshold['tr'+str(round(i,1))] = Threshold['pred'].apply(lambda x: get_x(x, i))\n",
    "    print(i, accuracy_score(Threshold['tr'+str(i)], y))\n",
    "    print(confusion_matrix(Threshold['tr'+str(i)], y))\n",
    "    cm = confusion_matrix(Threshold['tr'+str(i)], y)\n",
    "    print('b',(cm[1,1]+cm[1,0])*p)\n",
    "    b = (cm[1,1]+cm[1,0])*p\n",
    "    print('c',(cm[1,1]*0.75+cm[0,1])*p)\n",
    "    c = (cm[1,1]*0.75+cm[0,1])*p\n",
    "    print('d',(cm[1,1]+cm[0,1])*0.2*p)\n",
    "    d = (cm[1,1]+cm[0,1])*0.2*p\n",
    "    print('e',cm[1,0]*p+cm[1,1]*(1-0.75)*p)\n",
    "    e = cm[1,0]*p+cm[1,1]*(1-0.75)*p\n",
    "    print('f',c-d-e)\n",
    "    f = c - d - e\n",
    "    print('g',f / 6043, '\\n')"
   ]
  },
  {
   "cell_type": "code",
   "execution_count": 59,
   "metadata": {
    "ExecuteTime": {
     "end_time": "2020-06-12T19:25:04.375043Z",
     "start_time": "2020-06-12T19:25:04.362077Z"
    }
   },
   "outputs": [
    {
     "data": {
      "text/plain": [
       "0.00016548072149594572"
      ]
     },
     "execution_count": 59,
     "metadata": {},
     "output_type": "execute_result"
    }
   ],
   "source": [
    "f / 6043 / f"
   ]
  }
 ],
 "metadata": {
  "kernelspec": {
   "display_name": "Python 3",
   "language": "python",
   "name": "python3"
  },
  "language_info": {
   "codemirror_mode": {
    "name": "ipython",
    "version": 3
   },
   "file_extension": ".py",
   "mimetype": "text/x-python",
   "name": "python",
   "nbconvert_exporter": "python",
   "pygments_lexer": "ipython3",
   "version": "3.7.7"
  }
 },
 "nbformat": 4,
 "nbformat_minor": 4
}
